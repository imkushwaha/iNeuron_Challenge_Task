{
 "cells": [
  {
   "cell_type": "markdown",
   "metadata": {},
   "source": [
    "# Logistic Regression Task \n",
    "\n",
    "### Data Link\n",
    "- https://archive.ics.uci.edu/ml/datasets/Activity+Recognition+system+based+on+Multisensor+data+fusion+%28AReM%29#\n",
    "    \n",
    "Task Logistic Regression\n",
    "\n",
    "1. WAP to read folder name and make a label in the csv with folder name\n",
    "2. Remove unneccesarry info in Automated way\n",
    "3. No other algorithm must be used other than Logistic Regression\n",
    "4. Try to utilize multiple solvers and make multiple models\n",
    "5. Provide the best models\n",
    "6. EDA and all must be done accordingly\n",
    "\n",
    "Note: No manual approaches will be appreciated"
   ]
  },
  {
   "cell_type": "markdown",
   "metadata": {},
   "source": [
    "### Importing Required Libraries"
   ]
  },
  {
   "cell_type": "code",
   "execution_count": 193,
   "metadata": {},
   "outputs": [],
   "source": [
    "import pandas as pd\n",
    "import numpy as np\n",
    "import matplotlib.pyplot as plt\n",
    "import seaborn as sns\n",
    "from pandas_profiling import ProfileReport\n",
    "\n",
    "from sklearn.preprocessing import StandardScaler \n",
    "from sklearn.linear_model  import Ridge,Lasso,RidgeCV, LassoCV, ElasticNet, ElasticNetCV, LogisticRegression\n",
    "from sklearn.model_selection import train_test_split\n",
    "from statsmodels.stats.outliers_influence import variance_inflation_factor \n",
    "from sklearn.metrics import accuracy_score, confusion_matrix, roc_curve, roc_auc_score, classification_report\n",
    "\n",
    "import warnings\n",
    "warnings.filterwarnings(\"ignore\")"
   ]
  },
  {
   "cell_type": "markdown",
   "metadata": {},
   "source": [
    "### Loading Data set "
   ]
  },
  {
   "cell_type": "code",
   "execution_count": 195,
   "metadata": {},
   "outputs": [
    {
     "data": {
      "text/html": [
       "<div>\n",
       "<style scoped>\n",
       "    .dataframe tbody tr th:only-of-type {\n",
       "        vertical-align: middle;\n",
       "    }\n",
       "\n",
       "    .dataframe tbody tr th {\n",
       "        vertical-align: top;\n",
       "    }\n",
       "\n",
       "    .dataframe thead th {\n",
       "        text-align: right;\n",
       "    }\n",
       "</style>\n",
       "<table border=\"1\" class=\"dataframe\">\n",
       "  <thead>\n",
       "    <tr style=\"text-align: right;\">\n",
       "      <th></th>\n",
       "      <th>time</th>\n",
       "      <th>avg_rss12</th>\n",
       "      <th>var_rss12</th>\n",
       "      <th>avg_rss13</th>\n",
       "      <th>var_rss13</th>\n",
       "      <th>avg_rss23</th>\n",
       "      <th>var_rss23</th>\n",
       "      <th>label</th>\n",
       "    </tr>\n",
       "  </thead>\n",
       "  <tbody>\n",
       "    <tr>\n",
       "      <th>0</th>\n",
       "      <td>0</td>\n",
       "      <td>32.25</td>\n",
       "      <td>5.76</td>\n",
       "      <td>14.00</td>\n",
       "      <td>4.36</td>\n",
       "      <td>18.00</td>\n",
       "      <td>2.12</td>\n",
       "      <td>walking</td>\n",
       "    </tr>\n",
       "    <tr>\n",
       "      <th>1</th>\n",
       "      <td>250</td>\n",
       "      <td>37.75</td>\n",
       "      <td>5.07</td>\n",
       "      <td>15.50</td>\n",
       "      <td>3.20</td>\n",
       "      <td>14.75</td>\n",
       "      <td>1.79</td>\n",
       "      <td>walking</td>\n",
       "    </tr>\n",
       "    <tr>\n",
       "      <th>2</th>\n",
       "      <td>500</td>\n",
       "      <td>34.50</td>\n",
       "      <td>2.60</td>\n",
       "      <td>20.00</td>\n",
       "      <td>4.74</td>\n",
       "      <td>20.50</td>\n",
       "      <td>2.87</td>\n",
       "      <td>walking</td>\n",
       "    </tr>\n",
       "    <tr>\n",
       "      <th>3</th>\n",
       "      <td>750</td>\n",
       "      <td>23.75</td>\n",
       "      <td>5.36</td>\n",
       "      <td>11.75</td>\n",
       "      <td>6.22</td>\n",
       "      <td>14.25</td>\n",
       "      <td>3.77</td>\n",
       "      <td>walking</td>\n",
       "    </tr>\n",
       "    <tr>\n",
       "      <th>4</th>\n",
       "      <td>1000</td>\n",
       "      <td>41.25</td>\n",
       "      <td>3.77</td>\n",
       "      <td>15.00</td>\n",
       "      <td>6.63</td>\n",
       "      <td>11.50</td>\n",
       "      <td>2.69</td>\n",
       "      <td>walking</td>\n",
       "    </tr>\n",
       "  </tbody>\n",
       "</table>\n",
       "</div>"
      ],
      "text/plain": [
       "   time  avg_rss12  var_rss12  avg_rss13  var_rss13  avg_rss23 var_rss23  \\\n",
       "0     0      32.25       5.76      14.00       4.36      18.00      2.12   \n",
       "1   250      37.75       5.07      15.50       3.20      14.75      1.79   \n",
       "2   500      34.50       2.60      20.00       4.74      20.50      2.87   \n",
       "3   750      23.75       5.36      11.75       6.22      14.25      3.77   \n",
       "4  1000      41.25       3.77      15.00       6.63      11.50      2.69   \n",
       "\n",
       "     label  \n",
       "0  walking  \n",
       "1  walking  \n",
       "2  walking  \n",
       "3  walking  \n",
       "4  walking  "
      ]
     },
     "execution_count": 195,
     "metadata": {},
     "output_type": "execute_result"
    }
   ],
   "source": [
    "df = pd.read_csv(\"ARdata.csv\")\n",
    "df.head()"
   ]
  },
  {
   "cell_type": "code",
   "execution_count": 196,
   "metadata": {},
   "outputs": [
    {
     "name": "stdout",
     "output_type": "stream",
     "text": [
      "Number of rows present in dataset: 40799\n",
      "Number of columns present in dataset: 8\n"
     ]
    }
   ],
   "source": [
    "print(\"Number of rows present in dataset:\", df.shape[0])\n",
    "print(\"Number of columns present in dataset:\", df.shape[1])"
   ]
  },
  {
   "cell_type": "code",
   "execution_count": 33,
   "metadata": {},
   "outputs": [
    {
     "name": "stdout",
     "output_type": "stream",
     "text": [
      "<class 'pandas.core.frame.DataFrame'>\n",
      "RangeIndex: 40799 entries, 0 to 40798\n",
      "Data columns (total 8 columns):\n",
      " #   Column     Non-Null Count  Dtype  \n",
      "---  ------     --------------  -----  \n",
      " 0   time       40799 non-null  int64  \n",
      " 1   avg_rss12  40799 non-null  float64\n",
      " 2   var_rss12  40799 non-null  float64\n",
      " 3   avg_rss13  40799 non-null  float64\n",
      " 4   var_rss13  40799 non-null  float64\n",
      " 5   avg_rss23  40799 non-null  float64\n",
      " 6   var_rss23  40799 non-null  object \n",
      " 7   label      40799 non-null  object \n",
      "dtypes: float64(5), int64(1), object(2)\n",
      "memory usage: 2.5+ MB\n"
     ]
    }
   ],
   "source": [
    "df.info()"
   ]
  },
  {
   "cell_type": "code",
   "execution_count": 197,
   "metadata": {},
   "outputs": [],
   "source": [
    "#function to replace \"\\\\\" from some value in var_rss23\n",
    "\n",
    "def splitstring(x):\n",
    "    return x.split(\"\\\\\")[0]"
   ]
  },
  {
   "cell_type": "code",
   "execution_count": 198,
   "metadata": {},
   "outputs": [],
   "source": [
    "df[\"var_rss23\"] = df[\"var_rss23\"].apply(splitstring)"
   ]
  },
  {
   "cell_type": "code",
   "execution_count": 199,
   "metadata": {},
   "outputs": [],
   "source": [
    "## Changing data type of var_rss23 to float\n",
    "\n",
    "df[\"var_rss23\"] = df[\"var_rss23\"].astype('float64')"
   ]
  },
  {
   "cell_type": "code",
   "execution_count": 200,
   "metadata": {},
   "outputs": [
    {
     "data": {
      "text/html": [
       "<div>\n",
       "<style scoped>\n",
       "    .dataframe tbody tr th:only-of-type {\n",
       "        vertical-align: middle;\n",
       "    }\n",
       "\n",
       "    .dataframe tbody tr th {\n",
       "        vertical-align: top;\n",
       "    }\n",
       "\n",
       "    .dataframe thead th {\n",
       "        text-align: right;\n",
       "    }\n",
       "</style>\n",
       "<table border=\"1\" class=\"dataframe\">\n",
       "  <thead>\n",
       "    <tr style=\"text-align: right;\">\n",
       "      <th></th>\n",
       "      <th>time</th>\n",
       "      <th>avg_rss12</th>\n",
       "      <th>var_rss12</th>\n",
       "      <th>avg_rss13</th>\n",
       "      <th>var_rss13</th>\n",
       "      <th>avg_rss23</th>\n",
       "      <th>var_rss23</th>\n",
       "      <th>label</th>\n",
       "    </tr>\n",
       "  </thead>\n",
       "  <tbody>\n",
       "    <tr>\n",
       "      <th>0</th>\n",
       "      <td>0</td>\n",
       "      <td>32.25</td>\n",
       "      <td>5.76</td>\n",
       "      <td>14.00</td>\n",
       "      <td>4.36</td>\n",
       "      <td>18.00</td>\n",
       "      <td>2.12</td>\n",
       "      <td>walking</td>\n",
       "    </tr>\n",
       "    <tr>\n",
       "      <th>1</th>\n",
       "      <td>250</td>\n",
       "      <td>37.75</td>\n",
       "      <td>5.07</td>\n",
       "      <td>15.50</td>\n",
       "      <td>3.20</td>\n",
       "      <td>14.75</td>\n",
       "      <td>1.79</td>\n",
       "      <td>walking</td>\n",
       "    </tr>\n",
       "    <tr>\n",
       "      <th>2</th>\n",
       "      <td>500</td>\n",
       "      <td>34.50</td>\n",
       "      <td>2.60</td>\n",
       "      <td>20.00</td>\n",
       "      <td>4.74</td>\n",
       "      <td>20.50</td>\n",
       "      <td>2.87</td>\n",
       "      <td>walking</td>\n",
       "    </tr>\n",
       "    <tr>\n",
       "      <th>3</th>\n",
       "      <td>750</td>\n",
       "      <td>23.75</td>\n",
       "      <td>5.36</td>\n",
       "      <td>11.75</td>\n",
       "      <td>6.22</td>\n",
       "      <td>14.25</td>\n",
       "      <td>3.77</td>\n",
       "      <td>walking</td>\n",
       "    </tr>\n",
       "    <tr>\n",
       "      <th>4</th>\n",
       "      <td>1000</td>\n",
       "      <td>41.25</td>\n",
       "      <td>3.77</td>\n",
       "      <td>15.00</td>\n",
       "      <td>6.63</td>\n",
       "      <td>11.50</td>\n",
       "      <td>2.69</td>\n",
       "      <td>walking</td>\n",
       "    </tr>\n",
       "  </tbody>\n",
       "</table>\n",
       "</div>"
      ],
      "text/plain": [
       "   time  avg_rss12  var_rss12  avg_rss13  var_rss13  avg_rss23  var_rss23  \\\n",
       "0     0      32.25       5.76      14.00       4.36      18.00       2.12   \n",
       "1   250      37.75       5.07      15.50       3.20      14.75       1.79   \n",
       "2   500      34.50       2.60      20.00       4.74      20.50       2.87   \n",
       "3   750      23.75       5.36      11.75       6.22      14.25       3.77   \n",
       "4  1000      41.25       3.77      15.00       6.63      11.50       2.69   \n",
       "\n",
       "     label  \n",
       "0  walking  \n",
       "1  walking  \n",
       "2  walking  \n",
       "3  walking  \n",
       "4  walking  "
      ]
     },
     "execution_count": 200,
     "metadata": {},
     "output_type": "execute_result"
    }
   ],
   "source": [
    "df.head()"
   ]
  },
  {
   "cell_type": "code",
   "execution_count": 51,
   "metadata": {},
   "outputs": [
    {
     "name": "stdout",
     "output_type": "stream",
     "text": [
      "<class 'pandas.core.frame.DataFrame'>\n",
      "RangeIndex: 40799 entries, 0 to 40798\n",
      "Data columns (total 8 columns):\n",
      " #   Column     Non-Null Count  Dtype  \n",
      "---  ------     --------------  -----  \n",
      " 0   time       40799 non-null  int64  \n",
      " 1   avg_rss12  40799 non-null  float64\n",
      " 2   var_rss12  40799 non-null  float64\n",
      " 3   avg_rss13  40799 non-null  float64\n",
      " 4   var_rss13  40799 non-null  float64\n",
      " 5   avg_rss23  40799 non-null  float64\n",
      " 6   var_rss23  40799 non-null  float64\n",
      " 7   label      40799 non-null  object \n",
      "dtypes: float64(6), int64(1), object(1)\n",
      "memory usage: 2.5+ MB\n"
     ]
    }
   ],
   "source": [
    "df.info()"
   ]
  },
  {
   "cell_type": "markdown",
   "metadata": {},
   "source": [
    "### Pandas Profile Report for understanding data"
   ]
  },
  {
   "cell_type": "code",
   "execution_count": 53,
   "metadata": {},
   "outputs": [],
   "source": [
    "pf = ProfileReport(df)"
   ]
  },
  {
   "cell_type": "code",
   "execution_count": 54,
   "metadata": {},
   "outputs": [
    {
     "data": {
      "application/vnd.jupyter.widget-view+json": {
       "model_id": "61f6d0e2d63f4c8187daf26cb875c1fa",
       "version_major": 2,
       "version_minor": 0
      },
      "text/plain": [
       "Generate report structure:   0%|          | 0/1 [00:00<?, ?it/s]"
      ]
     },
     "metadata": {},
     "output_type": "display_data"
    },
    {
     "data": {
      "application/vnd.jupyter.widget-view+json": {
       "model_id": "",
       "version_major": 2,
       "version_minor": 0
      },
      "text/plain": [
       "Render widgets:   0%|          | 0/1 [00:00<?, ?it/s]"
      ]
     },
     "metadata": {},
     "output_type": "display_data"
    },
    {
     "data": {
      "application/vnd.jupyter.widget-view+json": {
       "model_id": "a631a4079fc34513a5015646dd86aac2",
       "version_major": 2,
       "version_minor": 0
      },
      "text/plain": [
       "VBox(children=(Tab(children=(Tab(children=(GridBox(children=(VBox(children=(GridspecLayout(children=(HTML(valu…"
      ]
     },
     "metadata": {},
     "output_type": "display_data"
    }
   ],
   "source": [
    "pf.to_widgets()"
   ]
  },
  {
   "cell_type": "markdown",
   "metadata": {},
   "source": [
    "- 7 numeric and 1 categorical column is present.\n",
    "- label categorical column has total 7 categories such as walking, standing,lying, sitting, cycling, bending1, bending2\n",
    "- Total 3359 duplicate rows are present in dataset.\n",
    "- No missing values are present.\n",
    "- avg columns are correlated with avg columns\n",
    "- variance columns are correlated with variance columns.\n",
    "- some of avg and variance columns are right and left skewed.\n",
    "- we have zero values present in dataset."
   ]
  },
  {
   "cell_type": "markdown",
   "metadata": {},
   "source": [
    "### Removing duplicate rows from dataset"
   ]
  },
  {
   "cell_type": "code",
   "execution_count": 201,
   "metadata": {},
   "outputs": [],
   "source": [
    "df.drop_duplicates(inplace = True)"
   ]
  },
  {
   "cell_type": "code",
   "execution_count": 202,
   "metadata": {},
   "outputs": [
    {
     "data": {
      "text/plain": [
       "(37440, 8)"
      ]
     },
     "execution_count": 202,
     "metadata": {},
     "output_type": "execute_result"
    }
   ],
   "source": [
    "df.shape"
   ]
  },
  {
   "cell_type": "markdown",
   "metadata": {},
   "source": [
    "### Checking for null values"
   ]
  },
  {
   "cell_type": "code",
   "execution_count": 57,
   "metadata": {},
   "outputs": [
    {
     "data": {
      "text/plain": [
       "time         0\n",
       "avg_rss12    0\n",
       "var_rss12    0\n",
       "avg_rss13    0\n",
       "var_rss13    0\n",
       "avg_rss23    0\n",
       "var_rss23    0\n",
       "label        0\n",
       "dtype: int64"
      ]
     },
     "execution_count": 57,
     "metadata": {},
     "output_type": "execute_result"
    }
   ],
   "source": [
    "df.isnull().sum()"
   ]
  },
  {
   "cell_type": "code",
   "execution_count": 58,
   "metadata": {},
   "outputs": [
    {
     "data": {
      "text/plain": [
       "<AxesSubplot:>"
      ]
     },
     "execution_count": 58,
     "metadata": {},
     "output_type": "execute_result"
    },
    {
     "data": {
      "image/png": "[encoded data removed]",
      "text/plain": [
       "<Figure size 432x288 with 2 Axes>"
      ]
     },
     "metadata": {
      "needs_background": "light"
     },
     "output_type": "display_data"
    }
   ],
   "source": [
    "sns.heatmap(df.isnull())"
   ]
  },
  {
   "cell_type": "markdown",
   "metadata": {},
   "source": [
    "### Replacing zero values with median of particular column"
   ]
  },
  {
   "cell_type": "code",
   "execution_count": 203,
   "metadata": {},
   "outputs": [],
   "source": [
    "df['avg_rss12'] = df['avg_rss12'].replace(0,df['avg_rss12'].median())\n",
    "df['var_rss12'] = df['var_rss12'].replace(0,df['var_rss12'].median())\n",
    "df['avg_rss13'] = df['avg_rss13'].replace(0,df['avg_rss13'].median())\n",
    "df['var_rss13'] = df['var_rss13'].replace(0,df['var_rss13'].median())\n",
    "df['avg_rss23'] = df['avg_rss23'].replace(0,df['avg_rss23'].median())\n",
    "df['var_rss23'] = df['var_rss23'].replace(0,df['var_rss23'].median())"
   ]
  },
  {
   "cell_type": "code",
   "execution_count": null,
   "metadata": {},
   "outputs": [],
   "source": []
  },
  {
   "cell_type": "markdown",
   "metadata": {},
   "source": [
    "## EDA"
   ]
  },
  {
   "cell_type": "markdown",
   "metadata": {},
   "source": [
    "### Checking for outliers"
   ]
  },
  {
   "cell_type": "code",
   "execution_count": 76,
   "metadata": {},
   "outputs": [
    {
     "data": {
      "text/plain": [
       "<AxesSubplot:>"
      ]
     },
     "execution_count": 76,
     "metadata": {},
     "output_type": "execute_result"
    },
    {
     "data": {
      "image/png": "[encoded data removed]",
      "text/plain": [
       "<Figure size 1440x1440 with 1 Axes>"
      ]
     },
     "metadata": {
      "needs_background": "light"
     },
     "output_type": "display_data"
    }
   ],
   "source": [
    "fig ,ax  = plt.subplots(figsize = (20,20))\n",
    "sns.boxplot(data = df.drop(\"label\", axis = 1), ax = ax)"
   ]
  },
  {
   "cell_type": "code",
   "execution_count": 77,
   "metadata": {},
   "outputs": [
    {
     "data": {
      "text/plain": [
       "<AxesSubplot:>"
      ]
     },
     "execution_count": 77,
     "metadata": {},
     "output_type": "execute_result"
    },
    {
     "data": {
      "image/png": "[encoded data removed]",
      "text/plain": [
       "<Figure size 1440x1440 with 1 Axes>"
      ]
     },
     "metadata": {
      "needs_background": "light"
     },
     "output_type": "display_data"
    }
   ],
   "source": [
    "fig ,ax  = plt.subplots(figsize = (20,20))\n",
    "sns.boxplot(data = df.drop(columns = [\"label\",\"time\"]), ax = ax)"
   ]
  },
  {
   "cell_type": "markdown",
   "metadata": {},
   "source": [
    "### Distribution of attributes"
   ]
  },
  {
   "cell_type": "code",
   "execution_count": 91,
   "metadata": {},
   "outputs": [
    {
     "data": {
      "image/png": "[encoded data removed]",
      "text/plain": [
       "<Figure size 1080x1080 with 6 Axes>"
      ]
     },
     "metadata": {
      "needs_background": "light"
     },
     "output_type": "display_data"
    }
   ],
   "source": [
    "plt.figure(figsize=(15,15))\n",
    "\n",
    "plt.subplot(3,2,1)\n",
    "sns.distplot(df[\"avg_rss12\"])\n",
    "name = \"avg_rss12\"\n",
    "skew = df[\"avg_rss12\"].skew()\n",
    "plt.title(f\"Attribute: {name}, \\n Skew: {skew}\")\n",
    "plt.axis(\"off\")\n",
    "\n",
    "plt.subplot(3,2,2)\n",
    "sns.distplot(df[\"var_rss12\"])\n",
    "name = \"var_rss12\"\n",
    "skew = df[\"var_rss12\"].skew()\n",
    "plt.title(f\"Attribute: {name}, \\n Skew: {skew}\")\n",
    "plt.axis(\"off\")\n",
    "\n",
    "plt.subplot(3,2,3)\n",
    "sns.distplot(df[\"avg_rss13\"])\n",
    "name = \"avg_rss13\"\n",
    "skew = df[\"avg_rss13\"].skew()\n",
    "plt.title(f\"Attribute: {name}, \\n Skew: {skew}\")\n",
    "plt.axis(\"off\")\n",
    "\n",
    "plt.subplot(3,2,4)\n",
    "sns.distplot(df[\"var_rss13\"])\n",
    "name = \"var_rss13\"\n",
    "skew = df[\"var_rss13\"].skew()\n",
    "plt.title(f\"Attribute: {name}, \\n Skew: {skew}\")\n",
    "plt.axis(\"off\")\n",
    "\n",
    "plt.subplot(3,2,5)\n",
    "sns.distplot(df[\"avg_rss23\"])\n",
    "name = \"avg_rss23\"\n",
    "skew = df[\"avg_rss23\"].skew()\n",
    "plt.title(f\"Attribute: {name}, \\n Skew: {skew}\")\n",
    "plt.axis(\"off\")\n",
    "\n",
    "plt.subplot(3,2,6)\n",
    "sns.distplot(df[\"var_rss23\"])\n",
    "name = \"var_rss23\"\n",
    "skew = df[\"var_rss23\"].skew()\n",
    "plt.title(f\"Attribute: {name}, \\n Skew: {skew}\")\n",
    "plt.axis(\"off\")\n",
    "\n",
    "plt.show()"
   ]
  },
  {
   "cell_type": "code",
   "execution_count": 145,
   "metadata": {},
   "outputs": [],
   "source": []
  },
  {
   "cell_type": "markdown",
   "metadata": {},
   "source": [
    "## Outliers Removal\n",
    "\n",
    "- From distribution we are very clear that all distribution are skewed, so we will use IQR method to remove outliers."
   ]
  },
  {
   "cell_type": "code",
   "execution_count": 167,
   "metadata": {},
   "outputs": [],
   "source": [
    "df1 = df.copy()"
   ]
  },
  {
   "cell_type": "markdown",
   "metadata": {},
   "source": [
    "### avg_rss12"
   ]
  },
  {
   "cell_type": "code",
   "execution_count": 169,
   "metadata": {},
   "outputs": [
    {
     "data": {
      "text/plain": [
       "count    37440.000000\n",
       "mean        39.160958\n",
       "std          6.140294\n",
       "min         12.500000\n",
       "25%         35.500000\n",
       "50%         40.250000\n",
       "75%         44.250000\n",
       "max         56.250000\n",
       "Name: avg_rss12, dtype: float64"
      ]
     },
     "execution_count": 169,
     "metadata": {},
     "output_type": "execute_result"
    }
   ],
   "source": [
    "df1[\"avg_rss12\"].describe()"
   ]
  },
  {
   "cell_type": "code",
   "execution_count": 170,
   "metadata": {},
   "outputs": [
    {
     "data": {
      "text/plain": [
       "8.75"
      ]
     },
     "execution_count": 170,
     "metadata": {},
     "output_type": "execute_result"
    }
   ],
   "source": [
    "q1 = df1[\"avg_rss12\"].quantiletile(0.25)\n",
    "q3 = df1[\"avg_rss12\"].quantile(0.75)\n",
    "iqr = q3 - q1\n",
    "iqr"
   ]
  },
  {
   "cell_type": "code",
   "execution_count": 173,
   "metadata": {},
   "outputs": [],
   "source": [
    "upper_limit = q3 + iqr * 1.5\n",
    "lower_limit = q1 - iqr * 1.5"
   ]
  },
  {
   "cell_type": "code",
   "execution_count": 174,
   "metadata": {},
   "outputs": [
    {
     "data": {
      "text/plain": [
       "57.375"
      ]
     },
     "execution_count": 174,
     "metadata": {},
     "output_type": "execute_result"
    }
   ],
   "source": [
    "upper_limit"
   ]
  },
  {
   "cell_type": "code",
   "execution_count": 175,
   "metadata": {},
   "outputs": [
    {
     "data": {
      "text/plain": [
       "22.375"
      ]
     },
     "execution_count": 175,
     "metadata": {},
     "output_type": "execute_result"
    }
   ],
   "source": [
    "lower_limit"
   ]
  },
  {
   "cell_type": "code",
   "execution_count": 177,
   "metadata": {},
   "outputs": [
    {
     "data": {
      "image/png": "[encoded data removed]",
      "text/plain": [
       "<Figure size 432x288 with 1 Axes>"
      ]
     },
     "metadata": {
      "needs_background": "light"
     },
     "output_type": "display_data"
    }
   ],
   "source": [
    "sns.boxplot(df1[\"avg_rss12\"])\n",
    "plt.show()"
   ]
  },
  {
   "cell_type": "code",
   "execution_count": 181,
   "metadata": {},
   "outputs": [],
   "source": [
    "df1 = df1[df1[\"avg_rss12\"]>lower_limit]"
   ]
  },
  {
   "cell_type": "code",
   "execution_count": 183,
   "metadata": {},
   "outputs": [
    {
     "data": {
      "image/png": "[encoded data removed]",
      "text/plain": [
       "<Figure size 432x288 with 1 Axes>"
      ]
     },
     "metadata": {
      "needs_background": "light"
     },
     "output_type": "display_data"
    }
   ],
   "source": [
    "sns.boxplot(df1[\"avg_rss12\"])\n",
    "plt.show()"
   ]
  },
  {
   "cell_type": "markdown",
   "metadata": {},
   "source": [
    "### var_rss12"
   ]
  },
  {
   "cell_type": "code",
   "execution_count": 184,
   "metadata": {},
   "outputs": [
    {
     "data": {
      "text/plain": [
       "count    37127.000000\n",
       "mean         1.636228\n",
       "std          2.020430\n",
       "min          0.260000\n",
       "25%          0.500000\n",
       "50%          0.500000\n",
       "75%          2.050000\n",
       "max         17.240000\n",
       "Name: var_rss12, dtype: float64"
      ]
     },
     "execution_count": 184,
     "metadata": {},
     "output_type": "execute_result"
    }
   ],
   "source": [
    "df1[\"var_rss12\"].describe()"
   ]
  },
  {
   "cell_type": "code",
   "execution_count": 187,
   "metadata": {},
   "outputs": [
    {
     "data": {
      "image/png": "[encoded data removed]",
      "text/plain": [
       "<Figure size 432x288 with 1 Axes>"
      ]
     },
     "metadata": {
      "needs_background": "light"
     },
     "output_type": "display_data"
    }
   ],
   "source": [
    "q1 = df1[\"var_rss12\"].quantile(0.25)\n",
    "q3 = df1[\"var_rss12\"].quantile(0.75)\n",
    "\n",
    "iqr = q3 - q1\n",
    "\n",
    "upper_limit = q3 + iqr * 1.5\n",
    "lower_limit = q1 - iqr * 1.5\n",
    "\n",
    "sns.boxplot(df1[\"var_rss12\"])\n",
    "plt.show()"
   ]
  },
  {
   "cell_type": "code",
   "execution_count": 190,
   "metadata": {},
   "outputs": [
    {
     "data": {
      "text/html": [
       "<div>\n",
       "<style scoped>\n",
       "    .dataframe tbody tr th:only-of-type {\n",
       "        vertical-align: middle;\n",
       "    }\n",
       "\n",
       "    .dataframe tbody tr th {\n",
       "        vertical-align: top;\n",
       "    }\n",
       "\n",
       "    .dataframe thead th {\n",
       "        text-align: right;\n",
       "    }\n",
       "</style>\n",
       "<table border=\"1\" class=\"dataframe\">\n",
       "  <thead>\n",
       "    <tr style=\"text-align: right;\">\n",
       "      <th></th>\n",
       "      <th>time</th>\n",
       "      <th>avg_rss12</th>\n",
       "      <th>var_rss12</th>\n",
       "      <th>avg_rss13</th>\n",
       "      <th>var_rss13</th>\n",
       "      <th>avg_rss23</th>\n",
       "      <th>var_rss23</th>\n",
       "      <th>label</th>\n",
       "    </tr>\n",
       "  </thead>\n",
       "  <tbody>\n",
       "    <tr>\n",
       "      <th>2</th>\n",
       "      <td>500.0</td>\n",
       "      <td>34.50</td>\n",
       "      <td>2.60</td>\n",
       "      <td>20.00</td>\n",
       "      <td>4.74</td>\n",
       "      <td>20.50</td>\n",
       "      <td>2.87</td>\n",
       "      <td>walking</td>\n",
       "    </tr>\n",
       "    <tr>\n",
       "      <th>4</th>\n",
       "      <td>1000.0</td>\n",
       "      <td>41.25</td>\n",
       "      <td>3.77</td>\n",
       "      <td>15.00</td>\n",
       "      <td>6.63</td>\n",
       "      <td>11.50</td>\n",
       "      <td>2.69</td>\n",
       "      <td>walking</td>\n",
       "    </tr>\n",
       "    <tr>\n",
       "      <th>5</th>\n",
       "      <td>1250.0</td>\n",
       "      <td>36.75</td>\n",
       "      <td>1.30</td>\n",
       "      <td>13.50</td>\n",
       "      <td>3.35</td>\n",
       "      <td>15.00</td>\n",
       "      <td>2.55</td>\n",
       "      <td>walking</td>\n",
       "    </tr>\n",
       "    <tr>\n",
       "      <th>6</th>\n",
       "      <td>1500.0</td>\n",
       "      <td>37.00</td>\n",
       "      <td>1.22</td>\n",
       "      <td>17.50</td>\n",
       "      <td>4.92</td>\n",
       "      <td>12.50</td>\n",
       "      <td>3.64</td>\n",
       "      <td>walking</td>\n",
       "    </tr>\n",
       "    <tr>\n",
       "      <th>9</th>\n",
       "      <td>2250.0</td>\n",
       "      <td>26.00</td>\n",
       "      <td>3.61</td>\n",
       "      <td>15.75</td>\n",
       "      <td>2.95</td>\n",
       "      <td>14.25</td>\n",
       "      <td>6.30</td>\n",
       "      <td>walking</td>\n",
       "    </tr>\n",
       "    <tr>\n",
       "      <th>...</th>\n",
       "      <td>...</td>\n",
       "      <td>...</td>\n",
       "      <td>...</td>\n",
       "      <td>...</td>\n",
       "      <td>...</td>\n",
       "      <td>...</td>\n",
       "      <td>...</td>\n",
       "      <td>...</td>\n",
       "    </tr>\n",
       "    <tr>\n",
       "      <th>40313</th>\n",
       "      <td>118500.0</td>\n",
       "      <td>38.50</td>\n",
       "      <td>0.50</td>\n",
       "      <td>12.00</td>\n",
       "      <td>3.94</td>\n",
       "      <td>14.00</td>\n",
       "      <td>5.83</td>\n",
       "      <td>cycling</td>\n",
       "    </tr>\n",
       "    <tr>\n",
       "      <th>40314</th>\n",
       "      <td>118750.0</td>\n",
       "      <td>42.25</td>\n",
       "      <td>1.09</td>\n",
       "      <td>12.50</td>\n",
       "      <td>3.28</td>\n",
       "      <td>12.00</td>\n",
       "      <td>5.20</td>\n",
       "      <td>cycling</td>\n",
       "    </tr>\n",
       "    <tr>\n",
       "      <th>40316</th>\n",
       "      <td>119250.0</td>\n",
       "      <td>31.75</td>\n",
       "      <td>1.30</td>\n",
       "      <td>23.50</td>\n",
       "      <td>1.50</td>\n",
       "      <td>16.25</td>\n",
       "      <td>2.95</td>\n",
       "      <td>cycling</td>\n",
       "    </tr>\n",
       "    <tr>\n",
       "      <th>40317</th>\n",
       "      <td>119500.0</td>\n",
       "      <td>31.00</td>\n",
       "      <td>3.24</td>\n",
       "      <td>15.50</td>\n",
       "      <td>4.92</td>\n",
       "      <td>14.75</td>\n",
       "      <td>3.70</td>\n",
       "      <td>cycling</td>\n",
       "    </tr>\n",
       "    <tr>\n",
       "      <th>40318</th>\n",
       "      <td>119750.0</td>\n",
       "      <td>38.75</td>\n",
       "      <td>1.64</td>\n",
       "      <td>16.33</td>\n",
       "      <td>5.91</td>\n",
       "      <td>12.33</td>\n",
       "      <td>1.25</td>\n",
       "      <td>cycling</td>\n",
       "    </tr>\n",
       "  </tbody>\n",
       "</table>\n",
       "<p>32909 rows × 8 columns</p>\n",
       "</div>"
      ],
      "text/plain": [
       "           time  avg_rss12  var_rss12  avg_rss13  var_rss13  avg_rss23  \\\n",
       "2         500.0      34.50       2.60      20.00       4.74      20.50   \n",
       "4        1000.0      41.25       3.77      15.00       6.63      11.50   \n",
       "5        1250.0      36.75       1.30      13.50       3.35      15.00   \n",
       "6        1500.0      37.00       1.22      17.50       4.92      12.50   \n",
       "9        2250.0      26.00       3.61      15.75       2.95      14.25   \n",
       "...         ...        ...        ...        ...        ...        ...   \n",
       "40313  118500.0      38.50       0.50      12.00       3.94      14.00   \n",
       "40314  118750.0      42.25       1.09      12.50       3.28      12.00   \n",
       "40316  119250.0      31.75       1.30      23.50       1.50      16.25   \n",
       "40317  119500.0      31.00       3.24      15.50       4.92      14.75   \n",
       "40318  119750.0      38.75       1.64      16.33       5.91      12.33   \n",
       "\n",
       "       var_rss23    label  \n",
       "2           2.87  walking  \n",
       "4           2.69  walking  \n",
       "5           2.55  walking  \n",
       "6           3.64  walking  \n",
       "9           6.30  walking  \n",
       "...          ...      ...  \n",
       "40313       5.83  cycling  \n",
       "40314       5.20  cycling  \n",
       "40316       2.95  cycling  \n",
       "40317       3.70  cycling  \n",
       "40318       1.25  cycling  \n",
       "\n",
       "[32909 rows x 8 columns]"
      ]
     },
     "execution_count": 190,
     "metadata": {},
     "output_type": "execute_result"
    }
   ],
   "source": [
    "df1 = df1[df1[\"var_rss12\"]<upper_limit]\n",
    "df1"
   ]
  },
  {
   "cell_type": "code",
   "execution_count": 191,
   "metadata": {},
   "outputs": [
    {
     "data": {
      "image/png": "[encoded data removed]",
      "text/plain": [
       "<Figure size 432x288 with 1 Axes>"
      ]
     },
     "metadata": {
      "needs_background": "light"
     },
     "output_type": "display_data"
    }
   ],
   "source": [
    "sns.boxplot(df1[\"var_rss12\"])\n",
    "plt.show()"
   ]
  },
  {
   "cell_type": "markdown",
   "metadata": {},
   "source": [
    "In this approach we are loosing lots of data and also new outliers are generating, for this time, let proceed with outliers only."
   ]
  },
  {
   "cell_type": "code",
   "execution_count": null,
   "metadata": {},
   "outputs": [],
   "source": []
  },
  {
   "cell_type": "markdown",
   "metadata": {},
   "source": [
    "## Model Building"
   ]
  },
  {
   "cell_type": "code",
   "execution_count": 204,
   "metadata": {},
   "outputs": [
    {
     "data": {
      "text/html": [
       "<div>\n",
       "<style scoped>\n",
       "    .dataframe tbody tr th:only-of-type {\n",
       "        vertical-align: middle;\n",
       "    }\n",
       "\n",
       "    .dataframe tbody tr th {\n",
       "        vertical-align: top;\n",
       "    }\n",
       "\n",
       "    .dataframe thead th {\n",
       "        text-align: right;\n",
       "    }\n",
       "</style>\n",
       "<table border=\"1\" class=\"dataframe\">\n",
       "  <thead>\n",
       "    <tr style=\"text-align: right;\">\n",
       "      <th></th>\n",
       "      <th>time</th>\n",
       "      <th>avg_rss12</th>\n",
       "      <th>var_rss12</th>\n",
       "      <th>avg_rss13</th>\n",
       "      <th>var_rss13</th>\n",
       "      <th>avg_rss23</th>\n",
       "      <th>var_rss23</th>\n",
       "      <th>label</th>\n",
       "    </tr>\n",
       "  </thead>\n",
       "  <tbody>\n",
       "    <tr>\n",
       "      <th>0</th>\n",
       "      <td>0</td>\n",
       "      <td>32.25</td>\n",
       "      <td>5.76</td>\n",
       "      <td>14.00</td>\n",
       "      <td>4.36</td>\n",
       "      <td>18.00</td>\n",
       "      <td>2.12</td>\n",
       "      <td>walking</td>\n",
       "    </tr>\n",
       "    <tr>\n",
       "      <th>1</th>\n",
       "      <td>250</td>\n",
       "      <td>37.75</td>\n",
       "      <td>5.07</td>\n",
       "      <td>15.50</td>\n",
       "      <td>3.20</td>\n",
       "      <td>14.75</td>\n",
       "      <td>1.79</td>\n",
       "      <td>walking</td>\n",
       "    </tr>\n",
       "    <tr>\n",
       "      <th>2</th>\n",
       "      <td>500</td>\n",
       "      <td>34.50</td>\n",
       "      <td>2.60</td>\n",
       "      <td>20.00</td>\n",
       "      <td>4.74</td>\n",
       "      <td>20.50</td>\n",
       "      <td>2.87</td>\n",
       "      <td>walking</td>\n",
       "    </tr>\n",
       "    <tr>\n",
       "      <th>3</th>\n",
       "      <td>750</td>\n",
       "      <td>23.75</td>\n",
       "      <td>5.36</td>\n",
       "      <td>11.75</td>\n",
       "      <td>6.22</td>\n",
       "      <td>14.25</td>\n",
       "      <td>3.77</td>\n",
       "      <td>walking</td>\n",
       "    </tr>\n",
       "    <tr>\n",
       "      <th>4</th>\n",
       "      <td>1000</td>\n",
       "      <td>41.25</td>\n",
       "      <td>3.77</td>\n",
       "      <td>15.00</td>\n",
       "      <td>6.63</td>\n",
       "      <td>11.50</td>\n",
       "      <td>2.69</td>\n",
       "      <td>walking</td>\n",
       "    </tr>\n",
       "  </tbody>\n",
       "</table>\n",
       "</div>"
      ],
      "text/plain": [
       "   time  avg_rss12  var_rss12  avg_rss13  var_rss13  avg_rss23  var_rss23  \\\n",
       "0     0      32.25       5.76      14.00       4.36      18.00       2.12   \n",
       "1   250      37.75       5.07      15.50       3.20      14.75       1.79   \n",
       "2   500      34.50       2.60      20.00       4.74      20.50       2.87   \n",
       "3   750      23.75       5.36      11.75       6.22      14.25       3.77   \n",
       "4  1000      41.25       3.77      15.00       6.63      11.50       2.69   \n",
       "\n",
       "     label  \n",
       "0  walking  \n",
       "1  walking  \n",
       "2  walking  \n",
       "3  walking  \n",
       "4  walking  "
      ]
     },
     "execution_count": 204,
     "metadata": {},
     "output_type": "execute_result"
    }
   ],
   "source": [
    "df.head()"
   ]
  },
  {
   "cell_type": "code",
   "execution_count": 205,
   "metadata": {},
   "outputs": [
    {
     "data": {
      "text/plain": [
       "(37440, 8)"
      ]
     },
     "execution_count": 205,
     "metadata": {},
     "output_type": "execute_result"
    }
   ],
   "source": [
    "df.shape"
   ]
  },
  {
   "cell_type": "code",
   "execution_count": 206,
   "metadata": {},
   "outputs": [],
   "source": [
    "scalar = StandardScaler()"
   ]
  },
  {
   "cell_type": "code",
   "execution_count": 207,
   "metadata": {},
   "outputs": [],
   "source": [
    "df_scaled = scalar.fit_transform(df.drop(\"label\", axis = 1))"
   ]
  },
  {
   "cell_type": "code",
   "execution_count": 210,
   "metadata": {},
   "outputs": [
    {
     "data": {
      "image/png": "[encoded data removed]",
      "text/plain": [
       "<Figure size 1440x1440 with 1 Axes>"
      ]
     },
     "metadata": {
      "needs_background": "light"
     },
     "output_type": "display_data"
    }
   ],
   "source": [
    "#Box plot after scalling data \n",
    "\n",
    "fig ,ax  = plt.subplots(figsize = (20,20))\n",
    "sns.boxplot(data = df_scaled, ax = ax)\n",
    "plt.show()"
   ]
  },
  {
   "cell_type": "markdown",
   "metadata": {},
   "source": [
    "### Label Encoding to label attribute"
   ]
  },
  {
   "cell_type": "code",
   "execution_count": 212,
   "metadata": {},
   "outputs": [
    {
     "data": {
      "text/plain": [
       "array(['walking', 'standing', 'sitting', 'lying', 'bending1', 'bending2',\n",
       "       'cycling'], dtype=object)"
      ]
     },
     "execution_count": 212,
     "metadata": {},
     "output_type": "execute_result"
    }
   ],
   "source": [
    "df['label'].unique()"
   ]
  },
  {
   "cell_type": "code",
   "execution_count": 213,
   "metadata": {},
   "outputs": [
    {
     "data": {
      "text/plain": [
       "array([6, 5, 4, 3, 0, 1, 2])"
      ]
     },
     "execution_count": 213,
     "metadata": {},
     "output_type": "execute_result"
    }
   ],
   "source": [
    "# Import label encoder\n",
    "from sklearn import preprocessing\n",
    "\n",
    "# label_encoder object knows how to understand word labels.\n",
    "label_encoder = preprocessing.LabelEncoder()\n",
    "\n",
    "# Encode labels in column 'label'.\n",
    "df['label']= label_encoder.fit_transform(df['label'])\n",
    "\n",
    "df['label'].unique()"
   ]
  },
  {
   "cell_type": "code",
   "execution_count": 214,
   "metadata": {},
   "outputs": [
    {
     "data": {
      "text/html": [
       "<div>\n",
       "<style scoped>\n",
       "    .dataframe tbody tr th:only-of-type {\n",
       "        vertical-align: middle;\n",
       "    }\n",
       "\n",
       "    .dataframe tbody tr th {\n",
       "        vertical-align: top;\n",
       "    }\n",
       "\n",
       "    .dataframe thead th {\n",
       "        text-align: right;\n",
       "    }\n",
       "</style>\n",
       "<table border=\"1\" class=\"dataframe\">\n",
       "  <thead>\n",
       "    <tr style=\"text-align: right;\">\n",
       "      <th></th>\n",
       "      <th>time</th>\n",
       "      <th>avg_rss12</th>\n",
       "      <th>var_rss12</th>\n",
       "      <th>avg_rss13</th>\n",
       "      <th>var_rss13</th>\n",
       "      <th>avg_rss23</th>\n",
       "      <th>var_rss23</th>\n",
       "      <th>label</th>\n",
       "    </tr>\n",
       "  </thead>\n",
       "  <tbody>\n",
       "    <tr>\n",
       "      <th>0</th>\n",
       "      <td>0</td>\n",
       "      <td>32.25</td>\n",
       "      <td>5.76</td>\n",
       "      <td>14.00</td>\n",
       "      <td>4.36</td>\n",
       "      <td>18.00</td>\n",
       "      <td>2.12</td>\n",
       "      <td>6</td>\n",
       "    </tr>\n",
       "    <tr>\n",
       "      <th>1</th>\n",
       "      <td>250</td>\n",
       "      <td>37.75</td>\n",
       "      <td>5.07</td>\n",
       "      <td>15.50</td>\n",
       "      <td>3.20</td>\n",
       "      <td>14.75</td>\n",
       "      <td>1.79</td>\n",
       "      <td>6</td>\n",
       "    </tr>\n",
       "    <tr>\n",
       "      <th>2</th>\n",
       "      <td>500</td>\n",
       "      <td>34.50</td>\n",
       "      <td>2.60</td>\n",
       "      <td>20.00</td>\n",
       "      <td>4.74</td>\n",
       "      <td>20.50</td>\n",
       "      <td>2.87</td>\n",
       "      <td>6</td>\n",
       "    </tr>\n",
       "    <tr>\n",
       "      <th>3</th>\n",
       "      <td>750</td>\n",
       "      <td>23.75</td>\n",
       "      <td>5.36</td>\n",
       "      <td>11.75</td>\n",
       "      <td>6.22</td>\n",
       "      <td>14.25</td>\n",
       "      <td>3.77</td>\n",
       "      <td>6</td>\n",
       "    </tr>\n",
       "    <tr>\n",
       "      <th>4</th>\n",
       "      <td>1000</td>\n",
       "      <td>41.25</td>\n",
       "      <td>3.77</td>\n",
       "      <td>15.00</td>\n",
       "      <td>6.63</td>\n",
       "      <td>11.50</td>\n",
       "      <td>2.69</td>\n",
       "      <td>6</td>\n",
       "    </tr>\n",
       "  </tbody>\n",
       "</table>\n",
       "</div>"
      ],
      "text/plain": [
       "   time  avg_rss12  var_rss12  avg_rss13  var_rss13  avg_rss23  var_rss23  \\\n",
       "0     0      32.25       5.76      14.00       4.36      18.00       2.12   \n",
       "1   250      37.75       5.07      15.50       3.20      14.75       1.79   \n",
       "2   500      34.50       2.60      20.00       4.74      20.50       2.87   \n",
       "3   750      23.75       5.36      11.75       6.22      14.25       3.77   \n",
       "4  1000      41.25       3.77      15.00       6.63      11.50       2.69   \n",
       "\n",
       "   label  \n",
       "0      6  \n",
       "1      6  \n",
       "2      6  \n",
       "3      6  \n",
       "4      6  "
      ]
     },
     "execution_count": 214,
     "metadata": {},
     "output_type": "execute_result"
    }
   ],
   "source": [
    "df.head()"
   ]
  },
  {
   "cell_type": "code",
   "execution_count": 215,
   "metadata": {},
   "outputs": [],
   "source": [
    "X = df.drop(\"label\", axis = 1)\n",
    "y = df[\"label\"]"
   ]
  },
  {
   "cell_type": "code",
   "execution_count": 219,
   "metadata": {},
   "outputs": [
    {
     "data": {
      "text/plain": [
       "array([[-1.72841269e+00, -1.12552429e+00,  2.03105082e+00, ...,\n",
       "         1.74705207e+00,  2.22941902e-01,  2.29250271e-01],\n",
       "       [-1.72119590e+00, -2.29789787e-01,  1.69083053e+00, ...,\n",
       "         9.88592756e-01, -2.68964410e-01,  1.72716461e-02],\n",
       "       [-1.71397910e+00, -7.59087450e-01,  4.72940518e-01, ...,\n",
       "         1.99551288e+00,  6.01331372e-01,  7.11019874e-01],\n",
       "       ...,\n",
       "       [ 1.71399761e+00, -1.20695470e+00, -1.68054224e-01, ...,\n",
       "        -1.22942451e-01, -4.19307279e-02,  7.62408631e-01],\n",
       "       [ 1.72121440e+00, -1.32910032e+00,  7.88507161e-01, ...,\n",
       "         2.11320485e+00, -2.68964410e-01,  1.24417823e+00],\n",
       "       [ 1.72843119e+00, -6.69289674e-02, -4.09445401e-04, ...,\n",
       "         2.76051064e+00, -6.35245418e-01, -3.29602468e-01]])"
      ]
     },
     "execution_count": 219,
     "metadata": {},
     "output_type": "execute_result"
    }
   ],
   "source": [
    "X_scaled = scalar.fit_transform(X)\n",
    "X_scaled"
   ]
  },
  {
   "cell_type": "code",
   "execution_count": 217,
   "metadata": {},
   "outputs": [
    {
     "data": {
      "text/plain": [
       "0        6\n",
       "1        6\n",
       "2        6\n",
       "3        6\n",
       "4        6\n",
       "        ..\n",
       "40314    2\n",
       "40315    2\n",
       "40316    2\n",
       "40317    2\n",
       "40318    2\n",
       "Name: label, Length: 37440, dtype: int32"
      ]
     },
     "execution_count": 217,
     "metadata": {},
     "output_type": "execute_result"
    }
   ],
   "source": [
    "y"
   ]
  },
  {
   "cell_type": "markdown",
   "metadata": {},
   "source": [
    "### VIF Check"
   ]
  },
  {
   "cell_type": "code",
   "execution_count": 222,
   "metadata": {},
   "outputs": [],
   "source": [
    "def vif_score(X):\n",
    "    scaler = StandardScaler()\n",
    "    arr = scaler.fit_transform(X)\n",
    "    return pd.DataFrame([[X.columns[i], variance_inflation_factor(arr,i)] for i in range(arr.shape[1])], columns=[\"FEATURE\", \"VIF_SCORE\"])"
   ]
  },
  {
   "cell_type": "code",
   "execution_count": 223,
   "metadata": {},
   "outputs": [
    {
     "data": {
      "text/html": [
       "<div>\n",
       "<style scoped>\n",
       "    .dataframe tbody tr th:only-of-type {\n",
       "        vertical-align: middle;\n",
       "    }\n",
       "\n",
       "    .dataframe tbody tr th {\n",
       "        vertical-align: top;\n",
       "    }\n",
       "\n",
       "    .dataframe thead th {\n",
       "        text-align: right;\n",
       "    }\n",
       "</style>\n",
       "<table border=\"1\" class=\"dataframe\">\n",
       "  <thead>\n",
       "    <tr style=\"text-align: right;\">\n",
       "      <th></th>\n",
       "      <th>FEATURE</th>\n",
       "      <th>VIF_SCORE</th>\n",
       "    </tr>\n",
       "  </thead>\n",
       "  <tbody>\n",
       "    <tr>\n",
       "      <th>0</th>\n",
       "      <td>time</td>\n",
       "      <td>1.000312</td>\n",
       "    </tr>\n",
       "    <tr>\n",
       "      <th>1</th>\n",
       "      <td>avg_rss12</td>\n",
       "      <td>1.259713</td>\n",
       "    </tr>\n",
       "    <tr>\n",
       "      <th>2</th>\n",
       "      <td>var_rss12</td>\n",
       "      <td>1.714533</td>\n",
       "    </tr>\n",
       "    <tr>\n",
       "      <th>3</th>\n",
       "      <td>avg_rss13</td>\n",
       "      <td>1.261428</td>\n",
       "    </tr>\n",
       "    <tr>\n",
       "      <th>4</th>\n",
       "      <td>var_rss13</td>\n",
       "      <td>1.594077</td>\n",
       "    </tr>\n",
       "    <tr>\n",
       "      <th>5</th>\n",
       "      <td>avg_rss23</td>\n",
       "      <td>1.245944</td>\n",
       "    </tr>\n",
       "    <tr>\n",
       "      <th>6</th>\n",
       "      <td>var_rss23</td>\n",
       "      <td>1.638276</td>\n",
       "    </tr>\n",
       "  </tbody>\n",
       "</table>\n",
       "</div>"
      ],
      "text/plain": [
       "     FEATURE  VIF_SCORE\n",
       "0       time   1.000312\n",
       "1  avg_rss12   1.259713\n",
       "2  var_rss12   1.714533\n",
       "3  avg_rss13   1.261428\n",
       "4  var_rss13   1.594077\n",
       "5  avg_rss23   1.245944\n",
       "6  var_rss23   1.638276"
      ]
     },
     "execution_count": 223,
     "metadata": {},
     "output_type": "execute_result"
    }
   ],
   "source": [
    "vif_score(X)"
   ]
  },
  {
   "cell_type": "markdown",
   "metadata": {},
   "source": [
    "### Train Test Split"
   ]
  },
  {
   "cell_type": "code",
   "execution_count": 224,
   "metadata": {},
   "outputs": [],
   "source": [
    "x_train, x_test, y_train, y_test = train_test_split(X_scaled , y , test_size = .20 , random_state = 42)"
   ]
  },
  {
   "cell_type": "code",
   "execution_count": 225,
   "metadata": {},
   "outputs": [
    {
     "data": {
      "text/plain": [
       "array([[-0.03968311, -1.69553716,  0.80329935, ...,  2.21128148,\n",
       "         0.60133137, -0.4131092 ],\n",
       "       [ 0.04691841,  0.58451431,  0.13765096, ...,  0.76628571,\n",
       "         0.03374717,  2.33618933],\n",
       "       [ 1.49027702, -2.18411962,  2.03105082, ...,  1.40705307,\n",
       "        -0.68519283,  3.47958919],\n",
       "       ...,\n",
       "       [ 0.03248482,  0.95095115, -0.56251253, ..., -0.56101809,\n",
       "        -0.28107287, -0.83064285],\n",
       "       [ 1.01396868, -1.93982839,  1.38019462, ...,  1.53128347,\n",
       "        -0.11760862,  0.46692328],\n",
       "       [ 1.41810909,  0.78809033, -0.45896722, ..., -0.56101809,\n",
       "        -2.27442861, -0.81137207]])"
      ]
     },
     "execution_count": 225,
     "metadata": {},
     "output_type": "execute_result"
    }
   ],
   "source": [
    "x_train"
   ]
  },
  {
   "cell_type": "code",
   "execution_count": 226,
   "metadata": {},
   "outputs": [
    {
     "data": {
      "text/plain": [
       "array([[ 0.09021917,  0.29950788, -0.20750005, ...,  0.15167213,\n",
       "        -0.45815915,  1.89938489],\n",
       "       [-1.43252417,  0.86952074, -0.56251253, ..., -0.56101809,\n",
       "         0.67700927, -0.49019234],\n",
       "       [ 0.48714278,  0.95095115, -0.56251253, ..., -0.56101809,\n",
       "        -0.63524542, -0.83064285],\n",
       "       ...,\n",
       "       [ 1.02840226, -1.49196114, -0.56251253, ..., -0.82255579,\n",
       "         0.52565348, -0.22682495],\n",
       "       [-1.64181117, -4.09773425, -0.20750005, ..., -0.82255579,\n",
       "         1.28243242, -0.67647658],\n",
       "       [-0.58815938,  0.73434626, -0.19270787, ...,  2.16551239,\n",
       "         0.2229419 ,  0.0686604 ]])"
      ]
     },
     "execution_count": 226,
     "metadata": {},
     "output_type": "execute_result"
    }
   ],
   "source": [
    "x_test"
   ]
  },
  {
   "cell_type": "markdown",
   "metadata": {},
   "source": [
    "### Model = Softmax Regression\n",
    "\n",
    "- The logistic Regression model can be generalized to support multiple classes directly, without having to train and combine multiple binary classifiers. This is called Softmax Regression, or Multinomial Logistic Regression.\n",
    "\n",
    "\n",
    "- In this problem statement, we have multiple classes in our target attribute.\n",
    "\n",
    "### model using solver == 'lbfgs'"
   ]
  },
  {
   "cell_type": "code",
   "execution_count": 273,
   "metadata": {},
   "outputs": [],
   "source": [
    "model = LogisticRegression(multi_class='multinomial', solver='lbfgs', verbose=1, penalty='l2', C = 0.6)"
   ]
  },
  {
   "cell_type": "code",
   "execution_count": 274,
   "metadata": {},
   "outputs": [
    {
     "data": {
      "text/plain": [
       "LogisticRegression(C=0.6, multi_class='multinomial', verbose=1)"
      ]
     },
     "execution_count": 274,
     "metadata": {},
     "output_type": "execute_result"
    }
   ],
   "source": [
    "model"
   ]
  },
  {
   "cell_type": "code",
   "execution_count": 275,
   "metadata": {},
   "outputs": [
    {
     "name": "stderr",
     "output_type": "stream",
     "text": [
      "[Parallel(n_jobs=1)]: Using backend SequentialBackend with 1 concurrent workers.\n",
      "[Parallel(n_jobs=1)]: Done   1 out of   1 | elapsed:    4.6s finished\n"
     ]
    },
    {
     "data": {
      "text/plain": [
       "LogisticRegression(C=0.6, multi_class='multinomial', verbose=1)"
      ]
     },
     "execution_count": 275,
     "metadata": {},
     "output_type": "execute_result"
    }
   ],
   "source": [
    " model.fit(x_train,y_train)"
   ]
  },
  {
   "cell_type": "code",
   "execution_count": 279,
   "metadata": {},
   "outputs": [
    {
     "data": {
      "text/plain": [
       "array([2, 4, 5, ..., 1, 1, 2])"
      ]
     },
     "execution_count": 279,
     "metadata": {},
     "output_type": "execute_result"
    }
   ],
   "source": [
    "#prediction using x_test\n",
    "\n",
    "y_pred = model.predict(x_test)\n",
    "y_pred"
   ]
  },
  {
   "cell_type": "code",
   "execution_count": 281,
   "metadata": {},
   "outputs": [
    {
     "data": {
      "text/plain": [
       "0.6586538461538461"
      ]
     },
     "execution_count": 281,
     "metadata": {},
     "output_type": "execute_result"
    }
   ],
   "source": [
    "#score\n",
    "model.score(x_test,y_test)"
   ]
  },
  {
   "cell_type": "code",
   "execution_count": 282,
   "metadata": {},
   "outputs": [
    {
     "data": {
      "text/plain": [
       "array([[ 537,    5,    9,    0,  108,    3,    0],\n",
       "       [  31,  319,   33,   22,   62,    2,   18],\n",
       "       [   1,    9,  651,    2,   79,   10,  388],\n",
       "       [   0,   21,    1,  670,   52,  116,    4],\n",
       "       [  48,   86,   23,  142,  745,  399,    5],\n",
       "       [   7,    1,   16,   83,  360,  939,   11],\n",
       "       [   0,   17,  371,    0,    8,    3, 1071]], dtype=int64)"
      ]
     },
     "execution_count": 282,
     "metadata": {},
     "output_type": "execute_result"
    }
   ],
   "source": [
    "#confusion matrix\n",
    "confusion_matrix(y_test,y_pred)"
   ]
  },
  {
   "cell_type": "code",
   "execution_count": 283,
   "metadata": {},
   "outputs": [
    {
     "name": "stdout",
     "output_type": "stream",
     "text": [
      "              precision    recall  f1-score   support\n",
      "\n",
      "           0       0.86      0.81      0.84       662\n",
      "           1       0.70      0.66      0.68       487\n",
      "           2       0.59      0.57      0.58      1140\n",
      "           3       0.73      0.78      0.75       864\n",
      "           4       0.53      0.51      0.52      1448\n",
      "           5       0.64      0.66      0.65      1417\n",
      "           6       0.72      0.73      0.72      1470\n",
      "\n",
      "    accuracy                           0.66      7488\n",
      "   macro avg       0.68      0.67      0.68      7488\n",
      "weighted avg       0.66      0.66      0.66      7488\n",
      "\n"
     ]
    }
   ],
   "source": [
    "#classification Report\n",
    "print(classification_report(y_test,y_pred))"
   ]
  },
  {
   "cell_type": "markdown",
   "metadata": {},
   "source": [
    "### model using solver == 'newton-cg'"
   ]
  },
  {
   "cell_type": "code",
   "execution_count": 294,
   "metadata": {},
   "outputs": [],
   "source": [
    "model_1 = LogisticRegression(multi_class='multinomial', solver='newton-cg', verbose=1, penalty='l2', C = 1)"
   ]
  },
  {
   "cell_type": "code",
   "execution_count": 295,
   "metadata": {},
   "outputs": [
    {
     "data": {
      "text/plain": [
       "LogisticRegression(C=1, multi_class='multinomial', solver='newton-cg',\n",
       "                   verbose=1)"
      ]
     },
     "execution_count": 295,
     "metadata": {},
     "output_type": "execute_result"
    }
   ],
   "source": [
    "model_1"
   ]
  },
  {
   "cell_type": "code",
   "execution_count": 296,
   "metadata": {},
   "outputs": [
    {
     "name": "stderr",
     "output_type": "stream",
     "text": [
      "[Parallel(n_jobs=1)]: Using backend SequentialBackend with 1 concurrent workers.\n",
      "[Parallel(n_jobs=1)]: Done   1 out of   1 | elapsed:    6.7s finished\n"
     ]
    },
    {
     "data": {
      "text/plain": [
       "LogisticRegression(C=1, multi_class='multinomial', solver='newton-cg',\n",
       "                   verbose=1)"
      ]
     },
     "execution_count": 296,
     "metadata": {},
     "output_type": "execute_result"
    }
   ],
   "source": [
    "model_1.fit(x_train,y_train)"
   ]
  },
  {
   "cell_type": "code",
   "execution_count": 297,
   "metadata": {},
   "outputs": [
    {
     "data": {
      "text/plain": [
       "0.6585202991452992"
      ]
     },
     "execution_count": 297,
     "metadata": {},
     "output_type": "execute_result"
    }
   ],
   "source": [
    "model_1.score(x_test,y_test)"
   ]
  },
  {
   "cell_type": "code",
   "execution_count": 298,
   "metadata": {},
   "outputs": [
    {
     "data": {
      "text/plain": [
       "array([2, 4, 5, ..., 1, 1, 2])"
      ]
     },
     "execution_count": 298,
     "metadata": {},
     "output_type": "execute_result"
    }
   ],
   "source": [
    "#prediction\n",
    "\n",
    "y_pred = model_1.predict(x_test)"
   ]
  },
  {
   "cell_type": "code",
   "execution_count": 299,
   "metadata": {},
   "outputs": [
    {
     "data": {
      "text/plain": [
       "array([[ 537,    5,    9,    0,  108,    3,    0],\n",
       "       [  31,  319,   33,   22,   62,    2,   18],\n",
       "       [   1,    9,  651,    2,   79,   10,  388],\n",
       "       [   0,   21,    1,  670,   52,  116,    4],\n",
       "       [  48,   86,   23,  142,  745,  399,    5],\n",
       "       [   7,    1,   16,   83,  360,  939,   11],\n",
       "       [   0,   17,  371,    0,    8,    3, 1071]], dtype=int64)"
      ]
     },
     "execution_count": 299,
     "metadata": {},
     "output_type": "execute_result"
    }
   ],
   "source": [
    "#confusion matrix\n",
    "\n",
    "confusion_matrix(y_test,y_pred)"
   ]
  },
  {
   "cell_type": "code",
   "execution_count": 300,
   "metadata": {},
   "outputs": [
    {
     "name": "stdout",
     "output_type": "stream",
     "text": [
      "              precision    recall  f1-score   support\n",
      "\n",
      "           0       0.86      0.81      0.84       662\n",
      "           1       0.70      0.66      0.68       487\n",
      "           2       0.59      0.57      0.58      1140\n",
      "           3       0.73      0.78      0.75       864\n",
      "           4       0.53      0.51      0.52      1448\n",
      "           5       0.64      0.66      0.65      1417\n",
      "           6       0.72      0.73      0.72      1470\n",
      "\n",
      "    accuracy                           0.66      7488\n",
      "   macro avg       0.68      0.67      0.68      7488\n",
      "weighted avg       0.66      0.66      0.66      7488\n",
      "\n"
     ]
    }
   ],
   "source": [
    "#classification report\n",
    "\n",
    "print(classification_report(y_test,y_pred))"
   ]
  },
  {
   "cell_type": "code",
   "execution_count": null,
   "metadata": {},
   "outputs": [],
   "source": []
  },
  {
   "cell_type": "markdown",
   "metadata": {},
   "source": [
    "### model using solver == 'sag'"
   ]
  },
  {
   "cell_type": "code",
   "execution_count": 307,
   "metadata": {},
   "outputs": [],
   "source": [
    "model_2 = LogisticRegression(multi_class='multinomial', solver='sag', verbose=1, penalty='l2', C = 1,max_iter=100)"
   ]
  },
  {
   "cell_type": "code",
   "execution_count": 308,
   "metadata": {},
   "outputs": [
    {
     "name": "stderr",
     "output_type": "stream",
     "text": [
      "[Parallel(n_jobs=1)]: Using backend SequentialBackend with 1 concurrent workers.\n"
     ]
    },
    {
     "name": "stdout",
     "output_type": "stream",
     "text": [
      "convergence after 25 epochs took 1 seconds\n"
     ]
    },
    {
     "name": "stderr",
     "output_type": "stream",
     "text": [
      "[Parallel(n_jobs=1)]: Done   1 out of   1 | elapsed:    1.5s finished\n"
     ]
    },
    {
     "data": {
      "text/plain": [
       "LogisticRegression(C=1, multi_class='multinomial', solver='sag', verbose=1)"
      ]
     },
     "execution_count": 308,
     "metadata": {},
     "output_type": "execute_result"
    }
   ],
   "source": [
    "model_2.fit(x_train,y_train)"
   ]
  },
  {
   "cell_type": "code",
   "execution_count": 309,
   "metadata": {},
   "outputs": [
    {
     "data": {
      "text/plain": [
       "0.6585202991452992"
      ]
     },
     "execution_count": 309,
     "metadata": {},
     "output_type": "execute_result"
    }
   ],
   "source": [
    "model_2.score(x_test,y_test)"
   ]
  },
  {
   "cell_type": "code",
   "execution_count": 312,
   "metadata": {},
   "outputs": [
    {
     "data": {
      "text/plain": [
       "array([2, 4, 5, ..., 1, 1, 2])"
      ]
     },
     "execution_count": 312,
     "metadata": {},
     "output_type": "execute_result"
    }
   ],
   "source": [
    "#prediction\n",
    "y_pred = model_2.predict(x_test)\n",
    "y_pred"
   ]
  },
  {
   "cell_type": "code",
   "execution_count": 314,
   "metadata": {},
   "outputs": [
    {
     "name": "stdout",
     "output_type": "stream",
     "text": [
      "              precision    recall  f1-score   support\n",
      "\n",
      "           0       0.86      0.81      0.84       662\n",
      "           1       0.70      0.66      0.68       487\n",
      "           2       0.59      0.57      0.58      1140\n",
      "           3       0.73      0.78      0.75       864\n",
      "           4       0.53      0.51      0.52      1448\n",
      "           5       0.64      0.66      0.65      1417\n",
      "           6       0.72      0.73      0.72      1470\n",
      "\n",
      "    accuracy                           0.66      7488\n",
      "   macro avg       0.68      0.67      0.68      7488\n",
      "weighted avg       0.66      0.66      0.66      7488\n",
      "\n"
     ]
    }
   ],
   "source": [
    "#classification report\n",
    "\n",
    "print(classification_report(y_test,y_pred))"
   ]
  },
  {
   "cell_type": "markdown",
   "metadata": {},
   "source": [
    "### model using solver == \"saga\""
   ]
  },
  {
   "cell_type": "code",
   "execution_count": 334,
   "metadata": {},
   "outputs": [],
   "source": [
    "model_3 = LogisticRegression(multi_class='multinomial', solver='saga', verbose=1, penalty='elasticnet', max_iter=1000, l1_ratio=0.5)"
   ]
  },
  {
   "cell_type": "code",
   "execution_count": 335,
   "metadata": {},
   "outputs": [
    {
     "data": {
      "text/plain": [
       "LogisticRegression(l1_ratio=0.5, max_iter=1000, multi_class='multinomial',\n",
       "                   penalty='elasticnet', solver='saga', verbose=1)"
      ]
     },
     "execution_count": 335,
     "metadata": {},
     "output_type": "execute_result"
    }
   ],
   "source": [
    "model_3"
   ]
  },
  {
   "cell_type": "code",
   "execution_count": 336,
   "metadata": {},
   "outputs": [
    {
     "name": "stderr",
     "output_type": "stream",
     "text": [
      "[Parallel(n_jobs=1)]: Using backend SequentialBackend with 1 concurrent workers.\n"
     ]
    },
    {
     "name": "stdout",
     "output_type": "stream",
     "text": [
      "convergence after 201 epochs took 30 seconds\n"
     ]
    },
    {
     "name": "stderr",
     "output_type": "stream",
     "text": [
      "[Parallel(n_jobs=1)]: Done   1 out of   1 | elapsed:   30.3s finished\n"
     ]
    },
    {
     "data": {
      "text/plain": [
       "LogisticRegression(l1_ratio=0.5, max_iter=1000, multi_class='multinomial',\n",
       "                   penalty='elasticnet', solver='saga', verbose=1)"
      ]
     },
     "execution_count": 336,
     "metadata": {},
     "output_type": "execute_result"
    }
   ],
   "source": [
    "model_3.fit(x_train,y_train)"
   ]
  },
  {
   "cell_type": "code",
   "execution_count": 337,
   "metadata": {},
   "outputs": [
    {
     "data": {
      "text/plain": [
       "0.6585202991452992"
      ]
     },
     "execution_count": 337,
     "metadata": {},
     "output_type": "execute_result"
    }
   ],
   "source": [
    "model_3.score(x_test,y_test)"
   ]
  },
  {
   "cell_type": "code",
   "execution_count": 338,
   "metadata": {},
   "outputs": [],
   "source": [
    "#prediction\n",
    "\n",
    "y_pred = model_3.predict(x_test)"
   ]
  },
  {
   "cell_type": "code",
   "execution_count": 339,
   "metadata": {},
   "outputs": [
    {
     "name": "stdout",
     "output_type": "stream",
     "text": [
      "              precision    recall  f1-score   support\n",
      "\n",
      "           0       0.86      0.81      0.84       662\n",
      "           1       0.70      0.66      0.68       487\n",
      "           2       0.59      0.57      0.58      1140\n",
      "           3       0.73      0.78      0.75       864\n",
      "           4       0.53      0.51      0.52      1448\n",
      "           5       0.64      0.66      0.65      1417\n",
      "           6       0.72      0.73      0.72      1470\n",
      "\n",
      "    accuracy                           0.66      7488\n",
      "   macro avg       0.68      0.67      0.68      7488\n",
      "weighted avg       0.66      0.66      0.66      7488\n",
      "\n"
     ]
    }
   ],
   "source": [
    "#classification report\n",
    "\n",
    "print(classification_report(y_test,y_pred))"
   ]
  },
  {
   "cell_type": "markdown",
   "metadata": {},
   "source": [
    "Here i have used all solver which we can use for multiclass classification problem and in all solver i am getting approximately same accuracy. May accuracy can increase if we will do some hyperparameter tuning."
   ]
  },
  {
   "cell_type": "code",
   "execution_count": null,
   "metadata": {},
   "outputs": [],
   "source": []
  },
  {
   "cell_type": "code",
   "execution_count": null,
   "metadata": {},
   "outputs": [],
   "source": []
  }
 ],
 "metadata": {
  "kernelspec": {
   "display_name": "Python 3",
   "language": "python",
   "name": "python3"
  },
  "language_info": {
   "codemirror_mode": {
    "name": "ipython",
    "version": 3
   },
   "file_extension": ".py",
   "mimetype": "text/x-python",
   "name": "python",
   "nbconvert_exporter": "python",
   "pygments_lexer": "ipython3",
   "version": "3.7.9"
  }
 },
 "nbformat": 4,
 "nbformat_minor": 4
}

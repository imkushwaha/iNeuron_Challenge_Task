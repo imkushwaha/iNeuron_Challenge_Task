{
 "cells": [
  {
   "cell_type": "code",
   "execution_count": null,
   "metadata": {},
   "outputs": [],
   "source": [
    "import pandas as pd\n",
    "import logging as lg\n",
    "import os\n",
    "import csv\n",
    "import mysql.connector as connection"
   ]
  },
  {
   "cell_type": "code",
   "execution_count": 38,
   "metadata": {},
   "outputs": [],
   "source": [
    "data = pd.read_csv(\"Test.csv\")"
   ]
  },
  {
   "cell_type": "code",
   "execution_count": 39,
   "metadata": {},
   "outputs": [
    {
     "data": {
      "text/html": [
       "<div>\n",
       "<style scoped>\n",
       "    .dataframe tbody tr th:only-of-type {\n",
       "        vertical-align: middle;\n",
       "    }\n",
       "\n",
       "    .dataframe tbody tr th {\n",
       "        vertical-align: top;\n",
       "    }\n",
       "\n",
       "    .dataframe thead th {\n",
       "        text-align: right;\n",
       "    }\n",
       "</style>\n",
       "<table border=\"1\" class=\"dataframe\">\n",
       "  <thead>\n",
       "    <tr style=\"text-align: right;\">\n",
       "      <th></th>\n",
       "      <th>Name</th>\n",
       "      <th>Age</th>\n",
       "      <th>Surname</th>\n",
       "      <th>Phone</th>\n",
       "    </tr>\n",
       "  </thead>\n",
       "  <tbody>\n",
       "    <tr>\n",
       "      <th>0</th>\n",
       "      <td>Harsh</td>\n",
       "      <td>25</td>\n",
       "      <td>Kumar</td>\n",
       "      <td>8102297062</td>\n",
       "    </tr>\n",
       "    <tr>\n",
       "      <th>1</th>\n",
       "      <td>Sonu</td>\n",
       "      <td>26</td>\n",
       "      <td>Raj</td>\n",
       "      <td>9103398061</td>\n",
       "    </tr>\n",
       "    <tr>\n",
       "      <th>2</th>\n",
       "      <td>Vishal</td>\n",
       "      <td>25</td>\n",
       "      <td>Kushwaha</td>\n",
       "      <td>6252789541</td>\n",
       "    </tr>\n",
       "    <tr>\n",
       "      <th>3</th>\n",
       "      <td>Anand</td>\n",
       "      <td>23</td>\n",
       "      <td>Mehta</td>\n",
       "      <td>7895416253</td>\n",
       "    </tr>\n",
       "    <tr>\n",
       "      <th>4</th>\n",
       "      <td>Vipul</td>\n",
       "      <td>27</td>\n",
       "      <td>Dubey</td>\n",
       "      <td>4565521463</td>\n",
       "    </tr>\n",
       "  </tbody>\n",
       "</table>\n",
       "</div>"
      ],
      "text/plain": [
       "     Name   Age   Surname       Phone\n",
       "0    Harsh   25     Kumar  8102297062\n",
       "1     Sonu   26       Raj  9103398061\n",
       "2  Vishal    25  Kushwaha  6252789541\n",
       "3    Anand   23     Mehta  7895416253\n",
       "4   Vipul    27     Dubey  4565521463"
      ]
     },
     "execution_count": 39,
     "metadata": {},
     "output_type": "execute_result"
    }
   ],
   "source": [
    "data.head()"
   ]
  },
  {
   "cell_type": "code",
   "execution_count": 103,
   "metadata": {},
   "outputs": [
    {
     "data": {
      "text/plain": [
       "pandas.core.frame.DataFrame"
      ]
     },
     "execution_count": 103,
     "metadata": {},
     "output_type": "execute_result"
    }
   ],
   "source": [
    "type(data)"
   ]
  },
  {
   "cell_type": "code",
   "execution_count": 104,
   "metadata": {},
   "outputs": [
    {
     "name": "stdout",
     "output_type": "stream",
     "text": [
      "     Name   Age    Surname       Phone\n",
      "0    Harsh   25      Kumar  8102297062\n",
      "1     Sonu   26        Raj  9103398061\n",
      "2  Vishal    25   Kushwaha  6252789541\n",
      "3    Anand   23      Mehta  7895416253\n",
      "4   Vipul    27      Dubey  4565521463\n",
      "5    Vijay   22  Prajapati  8574964152\n",
      "6    Asif    25        Ali  1234567885\n",
      "7   Rahul    21      Kumar  9638527418\n",
      "8   Tomak    20      Gorai  9685742314\n"
     ]
    }
   ],
   "source": [
    "df = pd.DataFrame(data)\n",
    "\n",
    "print(df)"
   ]
  },
  {
   "cell_type": "markdown",
   "metadata": {},
   "source": [
    "# Loading Iris Data"
   ]
  },
  {
   "cell_type": "code",
   "execution_count": 13,
   "metadata": {},
   "outputs": [
    {
     "data": {
      "text/html": [
       "<div>\n",
       "<style scoped>\n",
       "    .dataframe tbody tr th:only-of-type {\n",
       "        vertical-align: middle;\n",
       "    }\n",
       "\n",
       "    .dataframe tbody tr th {\n",
       "        vertical-align: top;\n",
       "    }\n",
       "\n",
       "    .dataframe thead th {\n",
       "        text-align: right;\n",
       "    }\n",
       "</style>\n",
       "<table border=\"1\" class=\"dataframe\">\n",
       "  <thead>\n",
       "    <tr style=\"text-align: right;\">\n",
       "      <th></th>\n",
       "      <th>sepal_length</th>\n",
       "      <th>sepal_width</th>\n",
       "      <th>petal_length</th>\n",
       "      <th>petal_width</th>\n",
       "      <th>species</th>\n",
       "    </tr>\n",
       "  </thead>\n",
       "  <tbody>\n",
       "    <tr>\n",
       "      <th>0</th>\n",
       "      <td>5.1</td>\n",
       "      <td>3.5</td>\n",
       "      <td>1.4</td>\n",
       "      <td>0.2</td>\n",
       "      <td>setosa</td>\n",
       "    </tr>\n",
       "    <tr>\n",
       "      <th>1</th>\n",
       "      <td>4.9</td>\n",
       "      <td>3.0</td>\n",
       "      <td>1.4</td>\n",
       "      <td>0.2</td>\n",
       "      <td>setosa</td>\n",
       "    </tr>\n",
       "    <tr>\n",
       "      <th>2</th>\n",
       "      <td>4.7</td>\n",
       "      <td>3.2</td>\n",
       "      <td>1.3</td>\n",
       "      <td>0.2</td>\n",
       "      <td>setosa</td>\n",
       "    </tr>\n",
       "    <tr>\n",
       "      <th>3</th>\n",
       "      <td>4.6</td>\n",
       "      <td>3.1</td>\n",
       "      <td>1.5</td>\n",
       "      <td>0.2</td>\n",
       "      <td>setosa</td>\n",
       "    </tr>\n",
       "    <tr>\n",
       "      <th>4</th>\n",
       "      <td>5.0</td>\n",
       "      <td>3.6</td>\n",
       "      <td>1.4</td>\n",
       "      <td>0.2</td>\n",
       "      <td>setosa</td>\n",
       "    </tr>\n",
       "  </tbody>\n",
       "</table>\n",
       "</div>"
      ],
      "text/plain": [
       "   sepal_length  sepal_width  petal_length  petal_width species\n",
       "0           5.1          3.5           1.4          0.2  setosa\n",
       "1           4.9          3.0           1.4          0.2  setosa\n",
       "2           4.7          3.2           1.3          0.2  setosa\n",
       "3           4.6          3.1           1.5          0.2  setosa\n",
       "4           5.0          3.6           1.4          0.2  setosa"
      ]
     },
     "execution_count": 13,
     "metadata": {},
     "output_type": "execute_result"
    }
   ],
   "source": [
    "import pandas as pd\n",
    "irisData = pd.read_csv('https://github.com/Muhd-Shahid/Write-Raw-File-into-Database-Server/raw/main/iris.csv',index_col=False)\n",
    "irisData.head()"
   ]
  },
  {
   "cell_type": "code",
   "execution_count": 3,
   "metadata": {},
   "outputs": [
    {
     "name": "stdout",
     "output_type": "stream",
     "text": [
      "irisDB database is created\n"
     ]
    }
   ],
   "source": [
    "import mysql.connector as msql\n",
    "from mysql.connector import Error\n",
    "try:\n",
    "    mydb = msql.connect(host='127.0.0.1', user='root',  \n",
    "                        password='upend764@')\n",
    "    if mydb.is_connected():\n",
    "        cursor = mydb.cursor()\n",
    "        cursor.execute(\"CREATE DATABASE irisDB\")\n",
    "        print(\"irisDB database is created\")\n",
    "except Error as e:\n",
    "    print(\"Error while connecting to MySQL\", e)"
   ]
  },
  {
   "cell_type": "code",
   "execution_count": 105,
   "metadata": {},
   "outputs": [],
   "source": [
    "#mydb = connection.connect(host='127.0.0.1', user='root', passwd='upend764@',use_pure=True)"
   ]
  },
  {
   "cell_type": "code",
   "execution_count": 106,
   "metadata": {},
   "outputs": [],
   "source": []
  },
  {
   "cell_type": "code",
   "execution_count": 4,
   "metadata": {},
   "outputs": [],
   "source": [
    "cursor.execute(\"SELECT * FROM student.my_table\")"
   ]
  },
  {
   "cell_type": "code",
   "execution_count": 6,
   "metadata": {},
   "outputs": [
    {
     "data": {
      "text/plain": [
       "[('Aryan', 26, 'Kashyap', 7061229810),\n",
       " ('Vishal', 20, 'Kumar', 9308335369),\n",
       " ('Shweta', 24, 'Verma', 9634568521)]"
      ]
     },
     "execution_count": 6,
     "metadata": {},
     "output_type": "execute_result"
    }
   ],
   "source": [
    "cursor.fetchall()"
   ]
  },
  {
   "cell_type": "code",
   "execution_count": 7,
   "metadata": {},
   "outputs": [],
   "source": [
    "cursor.execute(\"SHOW DATABASES\")"
   ]
  },
  {
   "cell_type": "code",
   "execution_count": 11,
   "metadata": {},
   "outputs": [
    {
     "data": {
      "text/plain": [
       "[('capstoneproject',),\n",
       " ('class',),\n",
       " ('employees',),\n",
       " ('hr_analytics',),\n",
       " ('hranalytics',),\n",
       " ('imarticus',),\n",
       " ('information_schema',),\n",
       " ('irisdb',),\n",
       " ('mysql',),\n",
       " ('performance_schema',),\n",
       " ('practice',),\n",
       " ('sales',),\n",
       " ('store_sales',),\n",
       " ('student',),\n",
       " ('sys',),\n",
       " ('upen',),\n",
       " ('upenda764',),\n",
       " ('upenda7641',),\n",
       " ('upendra',)]"
      ]
     },
     "execution_count": 11,
     "metadata": {},
     "output_type": "execute_result"
    }
   ],
   "source": [
    "cursor.fetchall()"
   ]
  },
  {
   "cell_type": "code",
   "execution_count": 21,
   "metadata": {},
   "outputs": [
    {
     "name": "stdout",
     "output_type": "stream",
     "text": [
      "iris table is created....\n",
      "Record inserted\n",
      "Record inserted\n",
      "Record inserted\n",
      "Record inserted\n",
      "Record inserted\n",
      "Record inserted\n",
      "Record inserted\n",
      "Record inserted\n",
      "Record inserted\n",
      "Record inserted\n",
      "Record inserted\n",
      "Record inserted\n",
      "Record inserted\n",
      "Record inserted\n",
      "Record inserted\n",
      "Record inserted\n",
      "Record inserted\n",
      "Record inserted\n",
      "Record inserted\n",
      "Record inserted\n",
      "Record inserted\n",
      "Record inserted\n",
      "Record inserted\n",
      "Record inserted\n",
      "Record inserted\n",
      "Record inserted\n",
      "Record inserted\n",
      "Record inserted\n",
      "Record inserted\n",
      "Record inserted\n",
      "Record inserted\n",
      "Record inserted\n",
      "Record inserted\n",
      "Record inserted\n",
      "Record inserted\n",
      "Record inserted\n",
      "Record inserted\n",
      "Record inserted\n",
      "Record inserted\n",
      "Record inserted\n",
      "Record inserted\n",
      "Record inserted\n",
      "Record inserted\n",
      "Record inserted\n",
      "Record inserted\n",
      "Record inserted\n",
      "Record inserted\n",
      "Record inserted\n",
      "Record inserted\n",
      "Record inserted\n",
      "Record inserted\n",
      "Record inserted\n",
      "Record inserted\n",
      "Record inserted\n",
      "Record inserted\n",
      "Record inserted\n",
      "Record inserted\n",
      "Record inserted\n",
      "Record inserted\n",
      "Record inserted\n",
      "Record inserted\n",
      "Record inserted\n",
      "Record inserted\n",
      "Record inserted\n",
      "Record inserted\n",
      "Record inserted\n",
      "Record inserted\n",
      "Record inserted\n",
      "Record inserted\n",
      "Record inserted\n",
      "Record inserted\n",
      "Record inserted\n",
      "Record inserted\n",
      "Record inserted\n",
      "Record inserted\n",
      "Record inserted\n",
      "Record inserted\n",
      "Record inserted\n",
      "Record inserted\n",
      "Record inserted\n",
      "Record inserted\n",
      "Record inserted\n",
      "Record inserted\n",
      "Record inserted\n",
      "Record inserted\n",
      "Record inserted\n",
      "Record inserted\n",
      "Record inserted\n",
      "Record inserted\n",
      "Record inserted\n",
      "Record inserted\n",
      "Record inserted\n",
      "Record inserted\n",
      "Record inserted\n",
      "Record inserted\n",
      "Record inserted\n",
      "Record inserted\n",
      "Record inserted\n",
      "Record inserted\n",
      "Record inserted\n",
      "Record inserted\n",
      "Record inserted\n",
      "Record inserted\n",
      "Record inserted\n",
      "Record inserted\n",
      "Record inserted\n",
      "Record inserted\n",
      "Record inserted\n",
      "Record inserted\n",
      "Record inserted\n",
      "Record inserted\n",
      "Record inserted\n",
      "Record inserted\n",
      "Record inserted\n",
      "Record inserted\n",
      "Record inserted\n",
      "Record inserted\n",
      "Record inserted\n",
      "Record inserted\n",
      "Record inserted\n",
      "Record inserted\n",
      "Record inserted\n",
      "Record inserted\n",
      "Record inserted\n",
      "Record inserted\n",
      "Record inserted\n",
      "Record inserted\n",
      "Record inserted\n",
      "Record inserted\n",
      "Record inserted\n",
      "Record inserted\n",
      "Record inserted\n",
      "Record inserted\n",
      "Record inserted\n",
      "Record inserted\n",
      "Record inserted\n",
      "Record inserted\n",
      "Record inserted\n",
      "Record inserted\n",
      "Record inserted\n",
      "Record inserted\n",
      "Record inserted\n",
      "Record inserted\n",
      "Record inserted\n",
      "Record inserted\n",
      "Record inserted\n",
      "Record inserted\n",
      "Record inserted\n",
      "Record inserted\n",
      "Record inserted\n"
     ]
    }
   ],
   "source": [
    "try:\n",
    "    mydb = msql.connect(host='127.0.0.1', user='root', password='upend764@')\n",
    "    \n",
    "    if mydb.is_connected():\n",
    "        cursor = mydb.cursor()\n",
    "        #cursor.execute(\"select database();\")\n",
    "        #record = cursor.fetchone()\n",
    "        #print(\"You're connected to database: \", record)\n",
    "        #cursor.execute('DROP TABLE IF EXISTS iris;')\n",
    "        #print('Creating table....')\n",
    "        cursor.execute(\"CREATE TABLE irisdb.iris (sepal_length FLOAT(2,1), sepal_width FLOAT(2,1), petal_length FLOAT(2,1), petal_width FLOAT(2,1), species CHAR(11))\")\n",
    "        print(\"iris table is created....\")\n",
    "        for i,row in irisData.iterrows():\n",
    "            sql = \"INSERT INTO irisdb.iris VALUES (%s,%s,%s,%s,%s)\"\n",
    "            cursor.execute(sql, tuple(row))\n",
    "            print(\"Record inserted\")\n",
    "            # the connection is not autocommitted by default, so we must commit to save our changes\n",
    "            mydb.commit()\n",
    "except Error as e:\n",
    "    print(\"Error while connecting to MySQL\", e)"
   ]
  },
  {
   "cell_type": "code",
   "execution_count": 23,
   "metadata": {},
   "outputs": [],
   "source": [
    "cursor.execute(\"Select * from irisdb.iris;\")"
   ]
  },
  {
   "cell_type": "code",
   "execution_count": 24,
   "metadata": {},
   "outputs": [
    {
     "data": {
      "text/plain": [
       "[(5.1, 3.5, 1.4, 0.2, 'setosa'),\n",
       " (4.9, 3.0, 1.4, 0.2, 'setosa'),\n",
       " (4.7, 3.2, 1.3, 0.2, 'setosa'),\n",
       " (4.6, 3.1, 1.5, 0.2, 'setosa'),\n",
       " (5.0, 3.6, 1.4, 0.2, 'setosa'),\n",
       " (5.4, 3.9, 1.7, 0.4, 'setosa'),\n",
       " (4.6, 3.4, 1.4, 0.3, 'setosa'),\n",
       " (5.0, 3.4, 1.5, 0.2, 'setosa'),\n",
       " (4.4, 2.9, 1.4, 0.2, 'setosa'),\n",
       " (4.9, 3.1, 1.5, 0.1, 'setosa'),\n",
       " (5.4, 3.7, 1.5, 0.2, 'setosa'),\n",
       " (4.8, 3.4, 1.6, 0.2, 'setosa'),\n",
       " (4.8, 3.0, 1.4, 0.1, 'setosa'),\n",
       " (4.3, 3.0, 1.1, 0.1, 'setosa'),\n",
       " (5.8, 4.0, 1.2, 0.2, 'setosa'),\n",
       " (5.7, 4.4, 1.5, 0.4, 'setosa'),\n",
       " (5.4, 3.9, 1.3, 0.4, 'setosa'),\n",
       " (5.1, 3.5, 1.4, 0.3, 'setosa'),\n",
       " (5.7, 3.8, 1.7, 0.3, 'setosa'),\n",
       " (5.1, 3.8, 1.5, 0.3, 'setosa'),\n",
       " (5.4, 3.4, 1.7, 0.2, 'setosa'),\n",
       " (5.1, 3.7, 1.5, 0.4, 'setosa'),\n",
       " (4.6, 3.6, 1.0, 0.2, 'setosa'),\n",
       " (5.1, 3.3, 1.7, 0.5, 'setosa'),\n",
       " (4.8, 3.4, 1.9, 0.2, 'setosa'),\n",
       " (5.0, 3.0, 1.6, 0.2, 'setosa'),\n",
       " (5.0, 3.4, 1.6, 0.4, 'setosa'),\n",
       " (5.2, 3.5, 1.5, 0.2, 'setosa'),\n",
       " (5.2, 3.4, 1.4, 0.2, 'setosa'),\n",
       " (4.7, 3.2, 1.6, 0.2, 'setosa'),\n",
       " (4.8, 3.1, 1.6, 0.2, 'setosa'),\n",
       " (5.4, 3.4, 1.5, 0.4, 'setosa'),\n",
       " (5.2, 4.1, 1.5, 0.1, 'setosa'),\n",
       " (5.5, 4.2, 1.4, 0.2, 'setosa'),\n",
       " (4.9, 3.1, 1.5, 0.2, 'setosa'),\n",
       " (5.0, 3.2, 1.2, 0.2, 'setosa'),\n",
       " (5.5, 3.5, 1.3, 0.2, 'setosa'),\n",
       " (4.9, 3.6, 1.4, 0.1, 'setosa'),\n",
       " (4.4, 3.0, 1.3, 0.2, 'setosa'),\n",
       " (5.1, 3.4, 1.5, 0.2, 'setosa'),\n",
       " (5.0, 3.5, 1.3, 0.3, 'setosa'),\n",
       " (4.5, 2.3, 1.3, 0.3, 'setosa'),\n",
       " (4.4, 3.2, 1.3, 0.2, 'setosa'),\n",
       " (5.0, 3.5, 1.6, 0.6, 'setosa'),\n",
       " (5.1, 3.8, 1.9, 0.4, 'setosa'),\n",
       " (4.8, 3.0, 1.4, 0.3, 'setosa'),\n",
       " (5.1, 3.8, 1.6, 0.2, 'setosa'),\n",
       " (4.6, 3.2, 1.4, 0.2, 'setosa'),\n",
       " (5.3, 3.7, 1.5, 0.2, 'setosa'),\n",
       " (5.0, 3.3, 1.4, 0.2, 'setosa'),\n",
       " (7.0, 3.2, 4.7, 1.4, 'versicolor'),\n",
       " (6.4, 3.2, 4.5, 1.5, 'versicolor'),\n",
       " (6.9, 3.1, 4.9, 1.5, 'versicolor'),\n",
       " (5.5, 2.3, 4.0, 1.3, 'versicolor'),\n",
       " (6.5, 2.8, 4.6, 1.5, 'versicolor'),\n",
       " (5.7, 2.8, 4.5, 1.3, 'versicolor'),\n",
       " (6.3, 3.3, 4.7, 1.6, 'versicolor'),\n",
       " (4.9, 2.4, 3.3, 1.0, 'versicolor'),\n",
       " (6.6, 2.9, 4.6, 1.3, 'versicolor'),\n",
       " (5.2, 2.7, 3.9, 1.4, 'versicolor'),\n",
       " (5.0, 2.0, 3.5, 1.0, 'versicolor'),\n",
       " (5.9, 3.0, 4.2, 1.5, 'versicolor'),\n",
       " (6.0, 2.2, 4.0, 1.0, 'versicolor'),\n",
       " (6.1, 2.9, 4.7, 1.4, 'versicolor'),\n",
       " (5.6, 2.9, 3.6, 1.3, 'versicolor'),\n",
       " (6.7, 3.1, 4.4, 1.4, 'versicolor'),\n",
       " (5.6, 3.0, 4.5, 1.5, 'versicolor'),\n",
       " (5.8, 2.7, 4.1, 1.0, 'versicolor'),\n",
       " (6.2, 2.2, 4.5, 1.5, 'versicolor'),\n",
       " (5.6, 2.5, 3.9, 1.1, 'versicolor'),\n",
       " (5.9, 3.2, 4.8, 1.8, 'versicolor'),\n",
       " (6.1, 2.8, 4.0, 1.3, 'versicolor'),\n",
       " (6.3, 2.5, 4.9, 1.5, 'versicolor'),\n",
       " (6.1, 2.8, 4.7, 1.2, 'versicolor'),\n",
       " (6.4, 2.9, 4.3, 1.3, 'versicolor'),\n",
       " (6.6, 3.0, 4.4, 1.4, 'versicolor'),\n",
       " (6.8, 2.8, 4.8, 1.4, 'versicolor'),\n",
       " (6.7, 3.0, 5.0, 1.7, 'versicolor'),\n",
       " (6.0, 2.9, 4.5, 1.5, 'versicolor'),\n",
       " (5.7, 2.6, 3.5, 1.0, 'versicolor'),\n",
       " (5.5, 2.4, 3.8, 1.1, 'versicolor'),\n",
       " (5.5, 2.4, 3.7, 1.0, 'versicolor'),\n",
       " (5.8, 2.7, 3.9, 1.2, 'versicolor'),\n",
       " (6.0, 2.7, 5.1, 1.6, 'versicolor'),\n",
       " (5.4, 3.0, 4.5, 1.5, 'versicolor'),\n",
       " (6.0, 3.4, 4.5, 1.6, 'versicolor'),\n",
       " (6.7, 3.1, 4.7, 1.5, 'versicolor'),\n",
       " (6.3, 2.3, 4.4, 1.3, 'versicolor'),\n",
       " (5.6, 3.0, 4.1, 1.3, 'versicolor'),\n",
       " (5.5, 2.5, 4.0, 1.3, 'versicolor'),\n",
       " (5.5, 2.6, 4.4, 1.2, 'versicolor'),\n",
       " (6.1, 3.0, 4.6, 1.4, 'versicolor'),\n",
       " (5.8, 2.6, 4.0, 1.2, 'versicolor'),\n",
       " (5.0, 2.3, 3.3, 1.0, 'versicolor'),\n",
       " (5.6, 2.7, 4.2, 1.3, 'versicolor'),\n",
       " (5.7, 3.0, 4.2, 1.2, 'versicolor'),\n",
       " (5.7, 2.9, 4.2, 1.3, 'versicolor'),\n",
       " (6.2, 2.9, 4.3, 1.3, 'versicolor'),\n",
       " (5.1, 2.5, 3.0, 1.1, 'versicolor'),\n",
       " (5.7, 2.8, 4.1, 1.3, 'versicolor'),\n",
       " (6.3, 3.3, 6.0, 2.5, 'virginica'),\n",
       " (5.8, 2.7, 5.1, 1.9, 'virginica'),\n",
       " (7.1, 3.0, 5.9, 2.1, 'virginica'),\n",
       " (6.3, 2.9, 5.6, 1.8, 'virginica'),\n",
       " (6.5, 3.0, 5.8, 2.2, 'virginica'),\n",
       " (7.6, 3.0, 6.6, 2.1, 'virginica'),\n",
       " (4.9, 2.5, 4.5, 1.7, 'virginica'),\n",
       " (7.3, 2.9, 6.3, 1.8, 'virginica'),\n",
       " (6.7, 2.5, 5.8, 1.8, 'virginica'),\n",
       " (7.2, 3.6, 6.1, 2.5, 'virginica'),\n",
       " (6.5, 3.2, 5.1, 2.0, 'virginica'),\n",
       " (6.4, 2.7, 5.3, 1.9, 'virginica'),\n",
       " (6.8, 3.0, 5.5, 2.1, 'virginica'),\n",
       " (5.7, 2.5, 5.0, 2.0, 'virginica'),\n",
       " (5.8, 2.8, 5.1, 2.4, 'virginica'),\n",
       " (6.4, 3.2, 5.3, 2.3, 'virginica'),\n",
       " (6.5, 3.0, 5.5, 1.8, 'virginica'),\n",
       " (7.7, 3.8, 6.7, 2.2, 'virginica'),\n",
       " (7.7, 2.6, 6.9, 2.3, 'virginica'),\n",
       " (6.0, 2.2, 5.0, 1.5, 'virginica'),\n",
       " (6.9, 3.2, 5.7, 2.3, 'virginica'),\n",
       " (5.6, 2.8, 4.9, 2.0, 'virginica'),\n",
       " (7.7, 2.8, 6.7, 2.0, 'virginica'),\n",
       " (6.3, 2.7, 4.9, 1.8, 'virginica'),\n",
       " (6.7, 3.3, 5.7, 2.1, 'virginica'),\n",
       " (7.2, 3.2, 6.0, 1.8, 'virginica'),\n",
       " (6.2, 2.8, 4.8, 1.8, 'virginica'),\n",
       " (6.1, 3.0, 4.9, 1.8, 'virginica'),\n",
       " (6.4, 2.8, 5.6, 2.1, 'virginica'),\n",
       " (7.2, 3.0, 5.8, 1.6, 'virginica'),\n",
       " (7.4, 2.8, 6.1, 1.9, 'virginica'),\n",
       " (7.9, 3.8, 6.4, 2.0, 'virginica'),\n",
       " (6.4, 2.8, 5.6, 2.2, 'virginica'),\n",
       " (6.3, 2.8, 5.1, 1.5, 'virginica'),\n",
       " (6.1, 2.6, 5.6, 1.4, 'virginica'),\n",
       " (7.7, 3.0, 6.1, 2.3, 'virginica'),\n",
       " (6.3, 3.4, 5.6, 2.4, 'virginica'),\n",
       " (6.4, 3.1, 5.5, 1.8, 'virginica'),\n",
       " (6.0, 3.0, 4.8, 1.8, 'virginica'),\n",
       " (6.9, 3.1, 5.4, 2.1, 'virginica'),\n",
       " (6.7, 3.1, 5.6, 2.4, 'virginica'),\n",
       " (6.9, 3.1, 5.1, 2.3, 'virginica'),\n",
       " (5.8, 2.7, 5.1, 1.9, 'virginica'),\n",
       " (6.8, 3.2, 5.9, 2.3, 'virginica'),\n",
       " (6.7, 3.3, 5.7, 2.5, 'virginica'),\n",
       " (6.7, 3.0, 5.2, 2.3, 'virginica'),\n",
       " (6.3, 2.5, 5.0, 1.9, 'virginica'),\n",
       " (6.5, 3.0, 5.2, 2.0, 'virginica'),\n",
       " (6.2, 3.4, 5.4, 2.3, 'virginica'),\n",
       " (5.9, 3.0, 5.1, 1.8, 'virginica')]"
      ]
     },
     "execution_count": 24,
     "metadata": {},
     "output_type": "execute_result"
    }
   ],
   "source": [
    "cursor.fetchall()"
   ]
  },
  {
   "cell_type": "markdown",
   "metadata": {},
   "source": [
    "# Checking with test.csv data"
   ]
  },
  {
   "cell_type": "code",
   "execution_count": 36,
   "metadata": {},
   "outputs": [],
   "source": [
    "data = pd.read_csv(\"test.csv\")"
   ]
  },
  {
   "cell_type": "code",
   "execution_count": 37,
   "metadata": {},
   "outputs": [
    {
     "data": {
      "text/html": [
       "<div>\n",
       "<style scoped>\n",
       "    .dataframe tbody tr th:only-of-type {\n",
       "        vertical-align: middle;\n",
       "    }\n",
       "\n",
       "    .dataframe tbody tr th {\n",
       "        vertical-align: top;\n",
       "    }\n",
       "\n",
       "    .dataframe thead th {\n",
       "        text-align: right;\n",
       "    }\n",
       "</style>\n",
       "<table border=\"1\" class=\"dataframe\">\n",
       "  <thead>\n",
       "    <tr style=\"text-align: right;\">\n",
       "      <th></th>\n",
       "      <th>Name</th>\n",
       "      <th>Age</th>\n",
       "      <th>Surname</th>\n",
       "      <th>Phone</th>\n",
       "    </tr>\n",
       "  </thead>\n",
       "  <tbody>\n",
       "    <tr>\n",
       "      <th>0</th>\n",
       "      <td>Harsh</td>\n",
       "      <td>25</td>\n",
       "      <td>Kumar</td>\n",
       "      <td>8102297062</td>\n",
       "    </tr>\n",
       "    <tr>\n",
       "      <th>1</th>\n",
       "      <td>Sonu</td>\n",
       "      <td>26</td>\n",
       "      <td>Raj</td>\n",
       "      <td>9103398061</td>\n",
       "    </tr>\n",
       "    <tr>\n",
       "      <th>2</th>\n",
       "      <td>Vishal</td>\n",
       "      <td>25</td>\n",
       "      <td>Kushwaha</td>\n",
       "      <td>6252789541</td>\n",
       "    </tr>\n",
       "    <tr>\n",
       "      <th>3</th>\n",
       "      <td>Anand</td>\n",
       "      <td>23</td>\n",
       "      <td>Mehta</td>\n",
       "      <td>7895416253</td>\n",
       "    </tr>\n",
       "    <tr>\n",
       "      <th>4</th>\n",
       "      <td>Vipul</td>\n",
       "      <td>27</td>\n",
       "      <td>Dubey</td>\n",
       "      <td>4565521463</td>\n",
       "    </tr>\n",
       "  </tbody>\n",
       "</table>\n",
       "</div>"
      ],
      "text/plain": [
       "     Name   Age   Surname       Phone\n",
       "0    Harsh   25     Kumar  8102297062\n",
       "1     Sonu   26       Raj  9103398061\n",
       "2  Vishal    25  Kushwaha  6252789541\n",
       "3    Anand   23     Mehta  7895416253\n",
       "4   Vipul    27     Dubey  4565521463"
      ]
     },
     "execution_count": 37,
     "metadata": {},
     "output_type": "execute_result"
    }
   ],
   "source": [
    "data.head()"
   ]
  },
  {
   "cell_type": "code",
   "execution_count": 30,
   "metadata": {},
   "outputs": [
    {
     "name": "stdout",
     "output_type": "stream",
     "text": [
      "('capstoneproject',)\n",
      "('class',)\n",
      "('employees',)\n",
      "('hr_analytics',)\n",
      "('hranalytics',)\n",
      "('imarticus',)\n",
      "('information_schema',)\n",
      "('irisdb',)\n",
      "('mysql',)\n",
      "('performance_schema',)\n",
      "('practice',)\n",
      "('sales',)\n",
      "('store_sales',)\n",
      "('student',)\n",
      "('sys',)\n",
      "('upen',)\n",
      "('upenda764',)\n",
      "('upenda7641',)\n",
      "('upendra',)\n"
     ]
    }
   ],
   "source": [
    "import mysql.connector as msql\n",
    "from mysql.connector import Error\n",
    "try:\n",
    "    mydb = msql.connect(host='127.0.0.1', user='root',  \n",
    "                        password='upend764@')\n",
    "    if mydb.is_connected():\n",
    "        cursor = mydb.cursor()\n",
    "        cursor.execute(\"Show Databases\")\n",
    "        for i in cursor.fetchall():\n",
    "            print(i)\n",
    "except Error as e:\n",
    "    print(\"Error while connecting to MySQL\", e)"
   ]
  },
  {
   "cell_type": "code",
   "execution_count": 31,
   "metadata": {},
   "outputs": [
    {
     "name": "stdout",
     "output_type": "stream",
     "text": [
      "Record inserted\n",
      "Record inserted\n",
      "Record inserted\n",
      "Record inserted\n",
      "Record inserted\n",
      "Record inserted\n",
      "Record inserted\n",
      "Record inserted\n",
      "Record inserted\n"
     ]
    }
   ],
   "source": [
    "try:\n",
    "    mydb = msql.connect(host='127.0.0.1', user='root', password='upend764@')\n",
    "    \n",
    "    if mydb.is_connected():\n",
    "        cursor = mydb.cursor()\n",
    "        #cursor.execute(\"select database();\")\n",
    "        #record = cursor.fetchone()\n",
    "        #print(\"You're connected to database: \", record)\n",
    "        #cursor.execute('DROP TABLE IF EXISTS iris;')\n",
    "        #print('Creating table....')\n",
    "        #cursor.execute(\"CREATE TABLE irisdb.iris (sepal_length FLOAT(2,1), sepal_width FLOAT(2,1), petal_length FLOAT(2,1), petal_width FLOAT(2,1), species CHAR(11))\")\n",
    "        #print(\"iris table is created....\")\n",
    "        for i,row in data.iterrows():\n",
    "            sql = \"INSERT INTO student.my_table VALUES (%s,%s,%s,%s)\"\n",
    "            cursor.execute(sql, tuple(row))\n",
    "            print(\"Record inserted\")\n",
    "            # the connection is not autocommitted by default, so we must commit to save our changes\n",
    "            mydb.commit()\n",
    "except Error as e:\n",
    "    print(\"Error while connecting to MySQL\", e)"
   ]
  },
  {
   "cell_type": "markdown",
   "metadata": {},
   "source": [
    "# Downloading data from database"
   ]
  },
  {
   "cell_type": "code",
   "execution_count": 99,
   "metadata": {},
   "outputs": [],
   "source": [
    "mydb = msql.connect(host='127.0.0.1', user='root',  password='upend764@')"
   ]
  },
  {
   "cell_type": "code",
   "execution_count": 100,
   "metadata": {},
   "outputs": [],
   "source": [
    "cursor = mydb.cursor()"
   ]
  },
  {
   "cell_type": "code",
   "execution_count": null,
   "metadata": {},
   "outputs": [],
   "source": [
    "cursor.execute(\"select * from student.my_table\")"
   ]
  },
  {
   "cell_type": "code",
   "execution_count": null,
   "metadata": {},
   "outputs": [],
   "source": [
    "main_list = []\n",
    "\n",
    "for i in cursor.fetchall():\n",
    "    main_list.append(i)"
   ]
  },
  {
   "cell_type": "code",
   "execution_count": 90,
   "metadata": {},
   "outputs": [
    {
     "data": {
      "text/plain": [
       "[('Aryan', 26, 'Kashyap', 7061229810),\n",
       " ('Vishal', 20, 'Kumar', 9308335369),\n",
       " ('Shweta', 24, 'Verma', 9634568521),\n",
       " ('Harsh', 25, 'Kumar', 8102297062),\n",
       " ('Sonu', 26, 'Raj', 9103398061),\n",
       " ('Vishal ', 25, 'Kushwaha', 6252789541),\n",
       " ('Anand', 23, 'Mehta', 7895416253),\n",
       " ('Vipul ', 27, 'Dubey', 4565521463),\n",
       " ('Vijay', 22, 'Prajapati', 8574964152),\n",
       " ('Asif ', 25, 'Ali', 1234567885),\n",
       " ('Rahul ', 21, 'Kumar', 9638527418),\n",
       " ('Tomak ', 20, 'Gorai', 9685742314)]"
      ]
     },
     "execution_count": 90,
     "metadata": {},
     "output_type": "execute_result"
    }
   ],
   "source": [
    "main_list"
   ]
  },
  {
   "cell_type": "code",
   "execution_count": 97,
   "metadata": {},
   "outputs": [],
   "source": [
    "import pandas\n",
    "\n",
    "mydata = pd.DataFrame(main_list, columns = [\"Name\", \"Age\", \"Surname\", \"Phone\"])"
   ]
  },
  {
   "cell_type": "code",
   "execution_count": 98,
   "metadata": {},
   "outputs": [
    {
     "data": {
      "text/html": [
       "<div>\n",
       "<style scoped>\n",
       "    .dataframe tbody tr th:only-of-type {\n",
       "        vertical-align: middle;\n",
       "    }\n",
       "\n",
       "    .dataframe tbody tr th {\n",
       "        vertical-align: top;\n",
       "    }\n",
       "\n",
       "    .dataframe thead th {\n",
       "        text-align: right;\n",
       "    }\n",
       "</style>\n",
       "<table border=\"1\" class=\"dataframe\">\n",
       "  <thead>\n",
       "    <tr style=\"text-align: right;\">\n",
       "      <th></th>\n",
       "      <th>Name</th>\n",
       "      <th>Age</th>\n",
       "      <th>Surname</th>\n",
       "      <th>Phone</th>\n",
       "    </tr>\n",
       "  </thead>\n",
       "  <tbody>\n",
       "    <tr>\n",
       "      <th>0</th>\n",
       "      <td>Aryan</td>\n",
       "      <td>26</td>\n",
       "      <td>Kashyap</td>\n",
       "      <td>7061229810</td>\n",
       "    </tr>\n",
       "    <tr>\n",
       "      <th>1</th>\n",
       "      <td>Vishal</td>\n",
       "      <td>20</td>\n",
       "      <td>Kumar</td>\n",
       "      <td>9308335369</td>\n",
       "    </tr>\n",
       "    <tr>\n",
       "      <th>2</th>\n",
       "      <td>Shweta</td>\n",
       "      <td>24</td>\n",
       "      <td>Verma</td>\n",
       "      <td>9634568521</td>\n",
       "    </tr>\n",
       "    <tr>\n",
       "      <th>3</th>\n",
       "      <td>Harsh</td>\n",
       "      <td>25</td>\n",
       "      <td>Kumar</td>\n",
       "      <td>8102297062</td>\n",
       "    </tr>\n",
       "    <tr>\n",
       "      <th>4</th>\n",
       "      <td>Sonu</td>\n",
       "      <td>26</td>\n",
       "      <td>Raj</td>\n",
       "      <td>9103398061</td>\n",
       "    </tr>\n",
       "  </tbody>\n",
       "</table>\n",
       "</div>"
      ],
      "text/plain": [
       "     Name  Age  Surname       Phone\n",
       "0   Aryan   26  Kashyap  7061229810\n",
       "1  Vishal   20    Kumar  9308335369\n",
       "2  Shweta   24    Verma  9634568521\n",
       "3   Harsh   25    Kumar  8102297062\n",
       "4    Sonu   26      Raj  9103398061"
      ]
     },
     "execution_count": 98,
     "metadata": {},
     "output_type": "execute_result"
    }
   ],
   "source": [
    "mydata.head()"
   ]
  },
  {
   "cell_type": "code",
   "execution_count": null,
   "metadata": {},
   "outputs": [],
   "source": []
  },
  {
   "cell_type": "code",
   "execution_count": null,
   "metadata": {},
   "outputs": [],
   "source": []
  },
  {
   "cell_type": "code",
   "execution_count": null,
   "metadata": {},
   "outputs": [],
   "source": []
  },
  {
   "cell_type": "code",
   "execution_count": null,
   "metadata": {},
   "outputs": [],
   "source": []
  },
  {
   "cell_type": "code",
   "execution_count": null,
   "metadata": {},
   "outputs": [],
   "source": []
  }
 ],
 "metadata": {
  "kernelspec": {
   "display_name": "Python 3",
   "language": "python",
   "name": "python3"
  },
  "language_info": {
   "codemirror_mode": {
    "name": "ipython",
    "version": 3
   },
   "file_extension": ".py",
   "mimetype": "text/x-python",
   "name": "python",
   "nbconvert_exporter": "python",
   "pygments_lexer": "ipython3",
   "version": "3.7.9"
  }
 },
 "nbformat": 4,
 "nbformat_minor": 4
}
